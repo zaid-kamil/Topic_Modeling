{
 "metadata": {
  "language_info": {
   "codemirror_mode": {
    "name": "ipython",
    "version": 3
   },
   "file_extension": ".py",
   "mimetype": "text/x-python",
   "name": "python",
   "nbconvert_exporter": "python",
   "pygments_lexer": "ipython3",
   "version": "3.8.8"
  },
  "orig_nbformat": 2,
  "kernelspec": {
   "name": "python388jvsc74a57bd01baa965d5efe3ac65b79dfc60c0d706280b1da80fedb7760faf2759126c4f253",
   "display_name": "Python 3.8.8 64-bit"
  },
  "metadata": {
   "interpreter": {
    "hash": "1baa965d5efe3ac65b79dfc60c0d706280b1da80fedb7760faf2759126c4f253"
   }
  }
 },
 "nbformat": 4,
 "nbformat_minor": 2,
 "cells": [
  {
   "source": [
    " # Getting the Data"
   ],
   "cell_type": "markdown",
   "metadata": {}
  },
  {
   "cell_type": "code",
   "execution_count": 1,
   "metadata": {},
   "outputs": [
    {
     "output_type": "stream",
     "name": "stdout",
     "text": [
      "Read 832 raw text documents\n"
     ]
    }
   ],
   "source": [
    "import os.path\n",
    "raw_documents = []\n",
    "snippets = []\n",
    "\n",
    "with open( os.path.join(\"uploads\", \"master_race.txt\") ,\"r\") as fin:\n",
    "    for line in fin.readlines():\n",
    "        text = line.strip()\n",
    "        raw_documents.append( text )\n",
    "        # keep a short snippet of up to 100 characters as a title for each article\n",
    "        snippets.append( text[0:min(len(text),100)] )\n",
    "print(\"Read %d raw text documents\" % len(raw_documents))"
   ]
  },
  {
   "cell_type": "code",
   "execution_count": 2,
   "metadata": {},
   "outputs": [
    {
     "output_type": "stream",
     "name": "stdout",
     "text": [
      "Stopword list has 350 entries\n"
     ]
    }
   ],
   "source": [
    "custom_stop_words = []\n",
    "with open( \"stopwords.txt\", \"r\" ) as fin:\n",
    "    for line in fin.readlines():\n",
    "        custom_stop_words.append( line.strip() )\n",
    "# note that we need to make it hashable\n",
    "print(\"Stopword list has %d entries\" % len(custom_stop_words) )"
   ]
  },
  {
   "cell_type": "code",
   "execution_count": 3,
   "metadata": {},
   "outputs": [
    {
     "output_type": "stream",
     "name": "stdout",
     "text": [
      "Created 832 X 10 document-term matrix\n"
     ]
    }
   ],
   "source": [
    "from sklearn.feature_extraction.text import CountVectorizer\n",
    "# use a custom stopwords list, set the minimum term-document frequency to 20\n",
    "vectorizer = CountVectorizer(stop_words = custom_stop_words, min_df = 20)\n",
    "A = vectorizer.fit_transform(raw_documents)\n",
    "print( \"Created %d X %d document-term matrix\" % (A.shape[0], A.shape[1]) )"
   ]
  },
  {
   "cell_type": "code",
   "execution_count": 16,
   "metadata": {},
   "outputs": [
    {
     "output_type": "stream",
     "name": "stdout",
     "text": [
      "Vocabulary has 10 distinct terms\n"
     ]
    }
   ],
   "source": [
    "terms = vectorizer.get_feature_names()\n",
    "print(\"Vocabulary has %d distinct terms\" % len(terms))"
   ]
  },
  {
   "cell_type": "code",
   "execution_count": 17,
   "metadata": {},
   "outputs": [
    {
     "output_type": "execute_result",
     "data": {
      "text/plain": [
       "['articles-raw.pkl']"
      ]
     },
     "metadata": {},
     "execution_count": 17
    }
   ],
   "source": [
    "import joblib\r\n",
    "joblib.dump((A,terms,snippets), \"articles-raw.pkl\")"
   ]
  },
  {
   "cell_type": "code",
   "execution_count": 18,
   "metadata": {},
   "outputs": [
    {
     "output_type": "stream",
     "name": "stdout",
     "text": [
      "Created 832 X 10 TF-IDF-normalized document-term matrix\n"
     ]
    }
   ],
   "source": [
    "from sklearn.feature_extraction.text import TfidfVectorizer\n",
    "# we can pass in the same preprocessing parameters\n",
    "vectorizer = TfidfVectorizer(stop_words=custom_stop_words, min_df = 20)\n",
    "A = vectorizer.fit_transform(raw_documents)\n",
    "print( \"Created %d X %d TF-IDF-normalized document-term matrix\" % (A.shape[0], A.shape[1]) )"
   ]
  },
  {
   "cell_type": "code",
   "execution_count": 19,
   "metadata": {},
   "outputs": [
    {
     "output_type": "stream",
     "name": "stdout",
     "text": [
      "Vocabulary has 10 distinct terms\n"
     ]
    }
   ],
   "source": [
    "# extract the resulting vocabulary\n",
    "terms = vectorizer.get_feature_names()\n",
    "print(\"Vocabulary has %d distinct terms\" % len(terms))"
   ]
  },
  {
   "cell_type": "code",
   "execution_count": 20,
   "metadata": {},
   "outputs": [],
   "source": [
    "\n",
    "import operator\n",
    "def rank_terms( A, terms ):\n",
    "    # get the sums over each column\n",
    "    sums = A.sum(axis=0)\n",
    "    # map weights to the terms\n",
    "    weights = {}\n",
    "    for col, term in enumerate(terms):\n",
    "        weights[term] = sums[0,col]\n",
    "    # rank the terms by their weight over all documents\n",
    "    return sorted(weights.items(), key=operator.itemgetter(1), reverse=True)"
   ]
  },
  {
   "cell_type": "code",
   "execution_count": 21,
   "metadata": {},
   "outputs": [
    {
     "output_type": "stream",
     "name": "stdout",
     "text": [
      "01. gutenberg (55.11)\n02. project (51.41)\n03. work (30.58)\n04. tm (30.13)\n05. foundation (22.10)\n06. works (20.15)\n07. law (18.18)\n08. terms (17.93)\n09. copyright (17.33)\n10. electronic (15.50)\n"
     ]
    }
   ],
   "source": [
    "ranking = rank_terms( A, terms )\n",
    "for i, pair in enumerate( ranking[0:20] ):\n",
    "    print( \"%02d. %s (%.2f)\" % ( i+1, pair[0], pair[1] ) )"
   ]
  },
  {
   "cell_type": "code",
   "execution_count": 22,
   "metadata": {},
   "outputs": [
    {
     "output_type": "execute_result",
     "data": {
      "text/plain": [
       "['articles-tfidf.pkl']"
      ]
     },
     "metadata": {},
     "execution_count": 22
    }
   ],
   "source": [
    "joblib.dump((A,terms,snippets), \"articles-tfidf.pkl\")"
   ]
  },
  {
   "cell_type": "code",
   "execution_count": 25,
   "metadata": {},
   "outputs": [
    {
     "output_type": "stream",
     "name": "stdout",
     "text": [
      "Loaded 832 X 10 document-term matrix\n"
     ]
    }
   ],
   "source": [
    "(A,terms,snippets) = joblib.load( \"articles-tfidf.pkl\")\n",
    "print( \"Loaded %d X %d document-term matrix\" % (A.shape[0], A.shape[1]) )"
   ]
  },
  {
   "cell_type": "code",
   "execution_count": 26,
   "metadata": {},
   "outputs": [],
   "source": [
    "# The key input parameter to NMF is the number of topics to generate k. For the moment, we will pre-specify a guessed value, for demonstration purposes.\n",
    "k=10"
   ]
  },
  {
   "cell_type": "code",
   "execution_count": 27,
   "metadata": {},
   "outputs": [],
   "source": [
    "\n",
    "# create the model\n",
    "from sklearn import decomposition\n",
    "model = decomposition.NMF( init=\"nndsvd\", n_components=k ) \n",
    "# apply the model and extract the two factor matrices\n",
    "W = model.fit_transform( A )\n",
    "H = model.components_"
   ]
  },
  {
   "cell_type": "code",
   "execution_count": 28,
   "metadata": {},
   "outputs": [
    {
     "output_type": "execute_result",
     "data": {
      "text/plain": [
       "(832, 10)"
      ]
     },
     "metadata": {},
     "execution_count": 28
    }
   ],
   "source": [
    "W.shape"
   ]
  },
  {
   "cell_type": "code",
   "execution_count": 29,
   "metadata": {},
   "outputs": [
    {
     "output_type": "execute_result",
     "data": {
      "text/plain": [
       "array([0.26, 0.  , 0.  , 0.  , 0.  , 0.  , 0.  , 0.31, 0.  , 0.  ])"
      ]
     },
     "metadata": {},
     "execution_count": 29
    }
   ],
   "source": [
    "W[0,:].round(2)"
   ]
  },
  {
   "cell_type": "code",
   "execution_count": 30,
   "metadata": {},
   "outputs": [
    {
     "output_type": "execute_result",
     "data": {
      "text/plain": [
       "(10, 10)"
      ]
     },
     "metadata": {},
     "execution_count": 30
    }
   ],
   "source": [
    "\n",
    "H.shape"
   ]
  },
  {
   "cell_type": "code",
   "execution_count": 32,
   "metadata": {},
   "outputs": [
    {
     "output_type": "execute_result",
     "data": {
      "text/plain": [
       "['copyright',\n",
       " 'electronic',\n",
       " 'foundation',\n",
       " 'gutenberg',\n",
       " 'law',\n",
       " 'project',\n",
       " 'terms',\n",
       " 'tm',\n",
       " 'work',\n",
       " 'works']"
      ]
     },
     "metadata": {},
     "execution_count": 32
    }
   ],
   "source": [
    "terms"
   ]
  },
  {
   "cell_type": "code",
   "execution_count": 33,
   "metadata": {},
   "outputs": [
    {
     "output_type": "execute_result",
     "data": {
      "text/plain": [
       "array([0.  , 0.  , 0.  , 2.15, 0.  , 0.  , 0.  , 0.  , 0.  , 0.  ])"
      ]
     },
     "metadata": {},
     "execution_count": 33
    }
   ],
   "source": [
    "term_index = terms.index('law')\n",
    "# round to 2 decimal places for display purposes\n",
    "H[:,term_index].round(2)"
   ]
  },
  {
   "cell_type": "code",
   "execution_count": 34,
   "metadata": {},
   "outputs": [],
   "source": [
    "\n",
    "import numpy as np\n",
    "def get_descriptor( terms, H, topic_index, top ):\n",
    "    # reverse sort the values to sort the indices\n",
    "    top_indices = np.argsort( H[topic_index,:] )[::-1]\n",
    "    # now get the terms corresponding to the top-ranked indices\n",
    "    top_terms = []\n",
    "    for term_index in top_indices[0:top]:\n",
    "        top_terms.append( terms[term_index] )\n",
    "    return top_terms"
   ]
  },
  {
   "cell_type": "code",
   "execution_count": 35,
   "metadata": {},
   "outputs": [
    {
     "output_type": "stream",
     "name": "stdout",
     "text": [
      "Topic 01: gutenberg, tm, works, work, terms, project, law, foundation, electronic, copyright\nTopic 02: work, electronic, works, tm, terms, project, law, gutenberg, foundation, copyright\nTopic 03: foundation, project, gutenberg, works, work, tm, terms, law, electronic, copyright\nTopic 04: law, works, copyright, work, project, tm, terms, gutenberg, foundation, electronic\nTopic 05: works, tm, copyright, work, terms, project, law, gutenberg, foundation, electronic\nTopic 06: terms, tm, work, works, project, law, gutenberg, foundation, electronic, copyright\nTopic 07: copyright, works, terms, foundation, work, tm, project, law, gutenberg, electronic\nTopic 08: project, gutenberg, works, terms, work, tm, law, foundation, electronic, copyright\nTopic 09: tm, project, gutenberg, work, works, terms, law, foundation, electronic, copyright\nTopic 10: electronic, tm, work, works, terms, project, law, gutenberg, foundation, copyright\n"
     ]
    }
   ],
   "source": [
    "\n",
    "descriptors = []\n",
    "for topic_index in range(k):\n",
    "    descriptors.append( get_descriptor( terms, H, topic_index, 10 ) )\n",
    "    str_descriptor = \", \".join( descriptors[topic_index] )\n",
    "    print(\"Topic %02d: %s\" % ( topic_index+1, str_descriptor ) )"
   ]
  },
  {
   "cell_type": "code",
   "execution_count": 36,
   "metadata": {},
   "outputs": [],
   "source": [
    "import numpy as np\n",
    "import matplotlib\n",
    "import matplotlib.pyplot as plt\n",
    "plt.style.use(\"ggplot\")\n",
    "matplotlib.rcParams.update({\"font.size\": 14})"
   ]
  },
  {
   "cell_type": "code",
   "execution_count": 37,
   "metadata": {},
   "outputs": [],
   "source": [
    "def plot_top_term_weights( terms, H, topic_index, top ):\n",
    "    # get the top terms and their weights\n",
    "    top_indices = np.argsort( H[topic_index,:] )[::-1]\n",
    "    top_terms = []\n",
    "    top_weights = []\n",
    "    for term_index in top_indices[0:top]:\n",
    "        top_terms.append( terms[term_index] )\n",
    "        top_weights.append( H[topic_index,term_index] )\n",
    "    # note we reverse the ordering for the plot\n",
    "    top_terms.reverse()\n",
    "    top_weights.reverse()\n",
    "    # create the plot\n",
    "    fig = plt.figure(figsize=(13,8))\n",
    "    # add the horizontal bar chart\n",
    "    ypos = np.arange(top)\n",
    "    ax = plt.barh(ypos, top_weights, align=\"center\", color=\"green\",tick_label=top_terms)\n",
    "    plt.xlabel(\"Term Weight\",fontsize=14)\n",
    "    plt.tight_layout()\n",
    "    plt.show()"
   ]
  },
  {
   "cell_type": "code",
   "execution_count": 44,
   "metadata": {},
   "outputs": [
    {
     "output_type": "display_data",
     "data": {
      "text/plain": "<Figure size 936x576 with 1 Axes>",
      "image/svg+xml": "<?xml version=\"1.0\" encoding=\"utf-8\" standalone=\"no\"?>\r\n<!DOCTYPE svg PUBLIC \"-//W3C//DTD SVG 1.1//EN\"\r\n  \"http://www.w3.org/Graphics/SVG/1.1/DTD/svg11.dtd\">\r\n<svg height=\"559.25875pt\" version=\"1.1\" viewBox=\"0 0 919.933437 559.25875\" width=\"919.933437pt\" xmlns=\"http://www.w3.org/2000/svg\" xmlns:xlink=\"http://www.w3.org/1999/xlink\">\r\n <metadata>\r\n  <rdf:RDF xmlns:cc=\"http://creativecommons.org/ns#\" xmlns:dc=\"http://purl.org/dc/elements/1.1/\" xmlns:rdf=\"http://www.w3.org/1999/02/22-rdf-syntax-ns#\">\r\n   <cc:Work>\r\n    <dc:type rdf:resource=\"http://purl.org/dc/dcmitype/StillImage\"/>\r\n    <dc:date>2021-05-04T13:34:18.405117</dc:date>\r\n    <dc:format>image/svg+xml</dc:format>\r\n    <dc:creator>\r\n     <cc:Agent>\r\n      <dc:title>Matplotlib v3.4.1, https://matplotlib.org/</dc:title>\r\n     </cc:Agent>\r\n    </dc:creator>\r\n   </cc:Work>\r\n  </rdf:RDF>\r\n </metadata>\r\n <defs>\r\n  <style type=\"text/css\">*{stroke-linecap:butt;stroke-linejoin:round;}</style>\r\n </defs>\r\n <g id=\"figure_1\">\r\n  <g id=\"patch_1\">\r\n   <path d=\"M 0 559.25875 \r\nL 919.933437 559.25875 \r\nL 919.933437 0 \r\nL 0 0 \r\nz\r\n\" style=\"fill:#ffffff;\"/>\r\n  </g>\r\n  <g id=\"axes_1\">\r\n   <g id=\"patch_2\">\r\n    <path d=\"M 89.723438 513.96 \r\nL 912.733438 513.96 \r\nL 912.733438 7.2 \r\nL 89.723438 7.2 \r\nz\r\n\" style=\"fill:#e5e5e5;\"/>\r\n   </g>\r\n   <g id=\"matplotlib.axis_1\">\r\n    <g id=\"xtick_1\">\r\n     <g id=\"line2d_1\">\r\n      <path clip-path=\"url(#pdaf2a507de)\" d=\"M 89.723438 513.96 \r\nL 89.723438 7.2 \r\n\" style=\"fill:none;stroke:#ffffff;stroke-linecap:square;stroke-width:0.8;\"/>\r\n     </g>\r\n     <g id=\"line2d_2\">\r\n      <defs>\r\n       <path d=\"M 0 0 \r\nL 0 3.5 \r\n\" id=\"md1d5462f03\" style=\"stroke:#555555;stroke-width:0.8;\"/>\r\n      </defs>\r\n      <g>\r\n       <use style=\"fill:#555555;stroke:#555555;stroke-width:0.8;\" x=\"89.723438\" xlink:href=\"#md1d5462f03\" y=\"513.96\"/>\r\n      </g>\r\n     </g>\r\n     <g id=\"text_1\">\r\n      <!-- 0.0 -->\r\n      <g style=\"fill:#555555;\" transform=\"translate(78.59125 531.597812)scale(0.14 -0.14)\">\r\n       <defs>\r\n        <path d=\"M 2034 4250 \r\nQ 1547 4250 1301 3770 \r\nQ 1056 3291 1056 2328 \r\nQ 1056 1369 1301 889 \r\nQ 1547 409 2034 409 \r\nQ 2525 409 2770 889 \r\nQ 3016 1369 3016 2328 \r\nQ 3016 3291 2770 3770 \r\nQ 2525 4250 2034 4250 \r\nz\r\nM 2034 4750 \r\nQ 2819 4750 3233 4129 \r\nQ 3647 3509 3647 2328 \r\nQ 3647 1150 3233 529 \r\nQ 2819 -91 2034 -91 \r\nQ 1250 -91 836 529 \r\nQ 422 1150 422 2328 \r\nQ 422 3509 836 4129 \r\nQ 1250 4750 2034 4750 \r\nz\r\n\" id=\"DejaVuSans-30\" transform=\"scale(0.015625)\"/>\r\n        <path d=\"M 684 794 \r\nL 1344 794 \r\nL 1344 0 \r\nL 684 0 \r\nL 684 794 \r\nz\r\n\" id=\"DejaVuSans-2e\" transform=\"scale(0.015625)\"/>\r\n       </defs>\r\n       <use xlink:href=\"#DejaVuSans-30\"/>\r\n       <use x=\"63.623047\" xlink:href=\"#DejaVuSans-2e\"/>\r\n       <use x=\"95.410156\" xlink:href=\"#DejaVuSans-30\"/>\r\n      </g>\r\n     </g>\r\n    </g>\r\n    <g id=\"xtick_2\">\r\n     <g id=\"line2d_3\">\r\n      <path clip-path=\"url(#pdaf2a507de)\" d=\"M 271.921879 513.96 \r\nL 271.921879 7.2 \r\n\" style=\"fill:none;stroke:#ffffff;stroke-linecap:square;stroke-width:0.8;\"/>\r\n     </g>\r\n     <g id=\"line2d_4\">\r\n      <g>\r\n       <use style=\"fill:#555555;stroke:#555555;stroke-width:0.8;\" x=\"271.921879\" xlink:href=\"#md1d5462f03\" y=\"513.96\"/>\r\n      </g>\r\n     </g>\r\n     <g id=\"text_2\">\r\n      <!-- 0.5 -->\r\n      <g style=\"fill:#555555;\" transform=\"translate(260.789691 531.597812)scale(0.14 -0.14)\">\r\n       <defs>\r\n        <path d=\"M 691 4666 \r\nL 3169 4666 \r\nL 3169 4134 \r\nL 1269 4134 \r\nL 1269 2991 \r\nQ 1406 3038 1543 3061 \r\nQ 1681 3084 1819 3084 \r\nQ 2600 3084 3056 2656 \r\nQ 3513 2228 3513 1497 \r\nQ 3513 744 3044 326 \r\nQ 2575 -91 1722 -91 \r\nQ 1428 -91 1123 -41 \r\nQ 819 9 494 109 \r\nL 494 744 \r\nQ 775 591 1075 516 \r\nQ 1375 441 1709 441 \r\nQ 2250 441 2565 725 \r\nQ 2881 1009 2881 1497 \r\nQ 2881 1984 2565 2268 \r\nQ 2250 2553 1709 2553 \r\nQ 1456 2553 1204 2497 \r\nQ 953 2441 691 2322 \r\nL 691 4666 \r\nz\r\n\" id=\"DejaVuSans-35\" transform=\"scale(0.015625)\"/>\r\n       </defs>\r\n       <use xlink:href=\"#DejaVuSans-30\"/>\r\n       <use x=\"63.623047\" xlink:href=\"#DejaVuSans-2e\"/>\r\n       <use x=\"95.410156\" xlink:href=\"#DejaVuSans-35\"/>\r\n      </g>\r\n     </g>\r\n    </g>\r\n    <g id=\"xtick_3\">\r\n     <g id=\"line2d_5\">\r\n      <path clip-path=\"url(#pdaf2a507de)\" d=\"M 454.12032 513.96 \r\nL 454.12032 7.2 \r\n\" style=\"fill:none;stroke:#ffffff;stroke-linecap:square;stroke-width:0.8;\"/>\r\n     </g>\r\n     <g id=\"line2d_6\">\r\n      <g>\r\n       <use style=\"fill:#555555;stroke:#555555;stroke-width:0.8;\" x=\"454.12032\" xlink:href=\"#md1d5462f03\" y=\"513.96\"/>\r\n      </g>\r\n     </g>\r\n     <g id=\"text_3\">\r\n      <!-- 1.0 -->\r\n      <g style=\"fill:#555555;\" transform=\"translate(442.988132 531.597812)scale(0.14 -0.14)\">\r\n       <defs>\r\n        <path d=\"M 794 531 \r\nL 1825 531 \r\nL 1825 4091 \r\nL 703 3866 \r\nL 703 4441 \r\nL 1819 4666 \r\nL 2450 4666 \r\nL 2450 531 \r\nL 3481 531 \r\nL 3481 0 \r\nL 794 0 \r\nL 794 531 \r\nz\r\n\" id=\"DejaVuSans-31\" transform=\"scale(0.015625)\"/>\r\n       </defs>\r\n       <use xlink:href=\"#DejaVuSans-31\"/>\r\n       <use x=\"63.623047\" xlink:href=\"#DejaVuSans-2e\"/>\r\n       <use x=\"95.410156\" xlink:href=\"#DejaVuSans-30\"/>\r\n      </g>\r\n     </g>\r\n    </g>\r\n    <g id=\"xtick_4\">\r\n     <g id=\"line2d_7\">\r\n      <path clip-path=\"url(#pdaf2a507de)\" d=\"M 636.318761 513.96 \r\nL 636.318761 7.2 \r\n\" style=\"fill:none;stroke:#ffffff;stroke-linecap:square;stroke-width:0.8;\"/>\r\n     </g>\r\n     <g id=\"line2d_8\">\r\n      <g>\r\n       <use style=\"fill:#555555;stroke:#555555;stroke-width:0.8;\" x=\"636.318761\" xlink:href=\"#md1d5462f03\" y=\"513.96\"/>\r\n      </g>\r\n     </g>\r\n     <g id=\"text_4\">\r\n      <!-- 1.5 -->\r\n      <g style=\"fill:#555555;\" transform=\"translate(625.186573 531.597812)scale(0.14 -0.14)\">\r\n       <use xlink:href=\"#DejaVuSans-31\"/>\r\n       <use x=\"63.623047\" xlink:href=\"#DejaVuSans-2e\"/>\r\n       <use x=\"95.410156\" xlink:href=\"#DejaVuSans-35\"/>\r\n      </g>\r\n     </g>\r\n    </g>\r\n    <g id=\"xtick_5\">\r\n     <g id=\"line2d_9\">\r\n      <path clip-path=\"url(#pdaf2a507de)\" d=\"M 818.517202 513.96 \r\nL 818.517202 7.2 \r\n\" style=\"fill:none;stroke:#ffffff;stroke-linecap:square;stroke-width:0.8;\"/>\r\n     </g>\r\n     <g id=\"line2d_10\">\r\n      <g>\r\n       <use style=\"fill:#555555;stroke:#555555;stroke-width:0.8;\" x=\"818.517202\" xlink:href=\"#md1d5462f03\" y=\"513.96\"/>\r\n      </g>\r\n     </g>\r\n     <g id=\"text_5\">\r\n      <!-- 2.0 -->\r\n      <g style=\"fill:#555555;\" transform=\"translate(807.385014 531.597812)scale(0.14 -0.14)\">\r\n       <defs>\r\n        <path d=\"M 1228 531 \r\nL 3431 531 \r\nL 3431 0 \r\nL 469 0 \r\nL 469 531 \r\nQ 828 903 1448 1529 \r\nQ 2069 2156 2228 2338 \r\nQ 2531 2678 2651 2914 \r\nQ 2772 3150 2772 3378 \r\nQ 2772 3750 2511 3984 \r\nQ 2250 4219 1831 4219 \r\nQ 1534 4219 1204 4116 \r\nQ 875 4013 500 3803 \r\nL 500 4441 \r\nQ 881 4594 1212 4672 \r\nQ 1544 4750 1819 4750 \r\nQ 2544 4750 2975 4387 \r\nQ 3406 4025 3406 3419 \r\nQ 3406 3131 3298 2873 \r\nQ 3191 2616 2906 2266 \r\nQ 2828 2175 2409 1742 \r\nQ 1991 1309 1228 531 \r\nz\r\n\" id=\"DejaVuSans-32\" transform=\"scale(0.015625)\"/>\r\n       </defs>\r\n       <use xlink:href=\"#DejaVuSans-32\"/>\r\n       <use x=\"63.623047\" xlink:href=\"#DejaVuSans-2e\"/>\r\n       <use x=\"95.410156\" xlink:href=\"#DejaVuSans-30\"/>\r\n      </g>\r\n     </g>\r\n    </g>\r\n    <g id=\"text_6\">\r\n     <!-- Term Weight -->\r\n     <g style=\"fill:#555555;\" transform=\"translate(457.65125 549.147187)scale(0.14 -0.14)\">\r\n      <defs>\r\n       <path d=\"M -19 4666 \r\nL 3928 4666 \r\nL 3928 4134 \r\nL 2272 4134 \r\nL 2272 0 \r\nL 1638 0 \r\nL 1638 4134 \r\nL -19 4134 \r\nL -19 4666 \r\nz\r\n\" id=\"DejaVuSans-54\" transform=\"scale(0.015625)\"/>\r\n       <path d=\"M 3597 1894 \r\nL 3597 1613 \r\nL 953 1613 \r\nQ 991 1019 1311 708 \r\nQ 1631 397 2203 397 \r\nQ 2534 397 2845 478 \r\nQ 3156 559 3463 722 \r\nL 3463 178 \r\nQ 3153 47 2828 -22 \r\nQ 2503 -91 2169 -91 \r\nQ 1331 -91 842 396 \r\nQ 353 884 353 1716 \r\nQ 353 2575 817 3079 \r\nQ 1281 3584 2069 3584 \r\nQ 2775 3584 3186 3129 \r\nQ 3597 2675 3597 1894 \r\nz\r\nM 3022 2063 \r\nQ 3016 2534 2758 2815 \r\nQ 2500 3097 2075 3097 \r\nQ 1594 3097 1305 2825 \r\nQ 1016 2553 972 2059 \r\nL 3022 2063 \r\nz\r\n\" id=\"DejaVuSans-65\" transform=\"scale(0.015625)\"/>\r\n       <path d=\"M 2631 2963 \r\nQ 2534 3019 2420 3045 \r\nQ 2306 3072 2169 3072 \r\nQ 1681 3072 1420 2755 \r\nQ 1159 2438 1159 1844 \r\nL 1159 0 \r\nL 581 0 \r\nL 581 3500 \r\nL 1159 3500 \r\nL 1159 2956 \r\nQ 1341 3275 1631 3429 \r\nQ 1922 3584 2338 3584 \r\nQ 2397 3584 2469 3576 \r\nQ 2541 3569 2628 3553 \r\nL 2631 2963 \r\nz\r\n\" id=\"DejaVuSans-72\" transform=\"scale(0.015625)\"/>\r\n       <path d=\"M 3328 2828 \r\nQ 3544 3216 3844 3400 \r\nQ 4144 3584 4550 3584 \r\nQ 5097 3584 5394 3201 \r\nQ 5691 2819 5691 2113 \r\nL 5691 0 \r\nL 5113 0 \r\nL 5113 2094 \r\nQ 5113 2597 4934 2840 \r\nQ 4756 3084 4391 3084 \r\nQ 3944 3084 3684 2787 \r\nQ 3425 2491 3425 1978 \r\nL 3425 0 \r\nL 2847 0 \r\nL 2847 2094 \r\nQ 2847 2600 2669 2842 \r\nQ 2491 3084 2119 3084 \r\nQ 1678 3084 1418 2786 \r\nQ 1159 2488 1159 1978 \r\nL 1159 0 \r\nL 581 0 \r\nL 581 3500 \r\nL 1159 3500 \r\nL 1159 2956 \r\nQ 1356 3278 1631 3431 \r\nQ 1906 3584 2284 3584 \r\nQ 2666 3584 2933 3390 \r\nQ 3200 3197 3328 2828 \r\nz\r\n\" id=\"DejaVuSans-6d\" transform=\"scale(0.015625)\"/>\r\n       <path id=\"DejaVuSans-20\" transform=\"scale(0.015625)\"/>\r\n       <path d=\"M 213 4666 \r\nL 850 4666 \r\nL 1831 722 \r\nL 2809 4666 \r\nL 3519 4666 \r\nL 4500 722 \r\nL 5478 4666 \r\nL 6119 4666 \r\nL 4947 0 \r\nL 4153 0 \r\nL 3169 4050 \r\nL 2175 0 \r\nL 1381 0 \r\nL 213 4666 \r\nz\r\n\" id=\"DejaVuSans-57\" transform=\"scale(0.015625)\"/>\r\n       <path d=\"M 603 3500 \r\nL 1178 3500 \r\nL 1178 0 \r\nL 603 0 \r\nL 603 3500 \r\nz\r\nM 603 4863 \r\nL 1178 4863 \r\nL 1178 4134 \r\nL 603 4134 \r\nL 603 4863 \r\nz\r\n\" id=\"DejaVuSans-69\" transform=\"scale(0.015625)\"/>\r\n       <path d=\"M 2906 1791 \r\nQ 2906 2416 2648 2759 \r\nQ 2391 3103 1925 3103 \r\nQ 1463 3103 1205 2759 \r\nQ 947 2416 947 1791 \r\nQ 947 1169 1205 825 \r\nQ 1463 481 1925 481 \r\nQ 2391 481 2648 825 \r\nQ 2906 1169 2906 1791 \r\nz\r\nM 3481 434 \r\nQ 3481 -459 3084 -895 \r\nQ 2688 -1331 1869 -1331 \r\nQ 1566 -1331 1297 -1286 \r\nQ 1028 -1241 775 -1147 \r\nL 775 -588 \r\nQ 1028 -725 1275 -790 \r\nQ 1522 -856 1778 -856 \r\nQ 2344 -856 2625 -561 \r\nQ 2906 -266 2906 331 \r\nL 2906 616 \r\nQ 2728 306 2450 153 \r\nQ 2172 0 1784 0 \r\nQ 1141 0 747 490 \r\nQ 353 981 353 1791 \r\nQ 353 2603 747 3093 \r\nQ 1141 3584 1784 3584 \r\nQ 2172 3584 2450 3431 \r\nQ 2728 3278 2906 2969 \r\nL 2906 3500 \r\nL 3481 3500 \r\nL 3481 434 \r\nz\r\n\" id=\"DejaVuSans-67\" transform=\"scale(0.015625)\"/>\r\n       <path d=\"M 3513 2113 \r\nL 3513 0 \r\nL 2938 0 \r\nL 2938 2094 \r\nQ 2938 2591 2744 2837 \r\nQ 2550 3084 2163 3084 \r\nQ 1697 3084 1428 2787 \r\nQ 1159 2491 1159 1978 \r\nL 1159 0 \r\nL 581 0 \r\nL 581 4863 \r\nL 1159 4863 \r\nL 1159 2956 \r\nQ 1366 3272 1645 3428 \r\nQ 1925 3584 2291 3584 \r\nQ 2894 3584 3203 3211 \r\nQ 3513 2838 3513 2113 \r\nz\r\n\" id=\"DejaVuSans-68\" transform=\"scale(0.015625)\"/>\r\n       <path d=\"M 1172 4494 \r\nL 1172 3500 \r\nL 2356 3500 \r\nL 2356 3053 \r\nL 1172 3053 \r\nL 1172 1153 \r\nQ 1172 725 1289 603 \r\nQ 1406 481 1766 481 \r\nL 2356 481 \r\nL 2356 0 \r\nL 1766 0 \r\nQ 1100 0 847 248 \r\nQ 594 497 594 1153 \r\nL 594 3053 \r\nL 172 3053 \r\nL 172 3500 \r\nL 594 3500 \r\nL 594 4494 \r\nL 1172 4494 \r\nz\r\n\" id=\"DejaVuSans-74\" transform=\"scale(0.015625)\"/>\r\n      </defs>\r\n      <use xlink:href=\"#DejaVuSans-54\"/>\r\n      <use x=\"44.083984\" xlink:href=\"#DejaVuSans-65\"/>\r\n      <use x=\"105.607422\" xlink:href=\"#DejaVuSans-72\"/>\r\n      <use x=\"144.970703\" xlink:href=\"#DejaVuSans-6d\"/>\r\n      <use x=\"242.382812\" xlink:href=\"#DejaVuSans-20\"/>\r\n      <use x=\"274.169922\" xlink:href=\"#DejaVuSans-57\"/>\r\n      <use x=\"367.171875\" xlink:href=\"#DejaVuSans-65\"/>\r\n      <use x=\"428.695312\" xlink:href=\"#DejaVuSans-69\"/>\r\n      <use x=\"456.478516\" xlink:href=\"#DejaVuSans-67\"/>\r\n      <use x=\"519.955078\" xlink:href=\"#DejaVuSans-68\"/>\r\n      <use x=\"583.333984\" xlink:href=\"#DejaVuSans-74\"/>\r\n     </g>\r\n    </g>\r\n   </g>\r\n   <g id=\"matplotlib.axis_2\">\r\n    <g id=\"ytick_1\">\r\n     <g id=\"line2d_11\">\r\n      <path clip-path=\"url(#pdaf2a507de)\" d=\"M 89.723438 472.121744 \r\nL 912.733438 472.121744 \r\n\" style=\"fill:none;stroke:#ffffff;stroke-linecap:square;stroke-width:0.8;\"/>\r\n     </g>\r\n     <g id=\"line2d_12\">\r\n      <defs>\r\n       <path d=\"M 0 0 \r\nL -3.5 0 \r\n\" id=\"m5f36860700\" style=\"stroke:#555555;stroke-width:0.8;\"/>\r\n      </defs>\r\n      <g>\r\n       <use style=\"fill:#555555;stroke:#555555;stroke-width:0.8;\" x=\"89.723438\" xlink:href=\"#m5f36860700\" y=\"472.121744\"/>\r\n      </g>\r\n     </g>\r\n     <g id=\"text_7\">\r\n      <!-- electronic -->\r\n      <g style=\"fill:#555555;\" transform=\"translate(13.952813 477.44065)scale(0.14 -0.14)\">\r\n       <defs>\r\n        <path d=\"M 603 4863 \r\nL 1178 4863 \r\nL 1178 0 \r\nL 603 0 \r\nL 603 4863 \r\nz\r\n\" id=\"DejaVuSans-6c\" transform=\"scale(0.015625)\"/>\r\n        <path d=\"M 3122 3366 \r\nL 3122 2828 \r\nQ 2878 2963 2633 3030 \r\nQ 2388 3097 2138 3097 \r\nQ 1578 3097 1268 2742 \r\nQ 959 2388 959 1747 \r\nQ 959 1106 1268 751 \r\nQ 1578 397 2138 397 \r\nQ 2388 397 2633 464 \r\nQ 2878 531 3122 666 \r\nL 3122 134 \r\nQ 2881 22 2623 -34 \r\nQ 2366 -91 2075 -91 \r\nQ 1284 -91 818 406 \r\nQ 353 903 353 1747 \r\nQ 353 2603 823 3093 \r\nQ 1294 3584 2113 3584 \r\nQ 2378 3584 2631 3529 \r\nQ 2884 3475 3122 3366 \r\nz\r\n\" id=\"DejaVuSans-63\" transform=\"scale(0.015625)\"/>\r\n        <path d=\"M 1959 3097 \r\nQ 1497 3097 1228 2736 \r\nQ 959 2375 959 1747 \r\nQ 959 1119 1226 758 \r\nQ 1494 397 1959 397 \r\nQ 2419 397 2687 759 \r\nQ 2956 1122 2956 1747 \r\nQ 2956 2369 2687 2733 \r\nQ 2419 3097 1959 3097 \r\nz\r\nM 1959 3584 \r\nQ 2709 3584 3137 3096 \r\nQ 3566 2609 3566 1747 \r\nQ 3566 888 3137 398 \r\nQ 2709 -91 1959 -91 \r\nQ 1206 -91 779 398 \r\nQ 353 888 353 1747 \r\nQ 353 2609 779 3096 \r\nQ 1206 3584 1959 3584 \r\nz\r\n\" id=\"DejaVuSans-6f\" transform=\"scale(0.015625)\"/>\r\n        <path d=\"M 3513 2113 \r\nL 3513 0 \r\nL 2938 0 \r\nL 2938 2094 \r\nQ 2938 2591 2744 2837 \r\nQ 2550 3084 2163 3084 \r\nQ 1697 3084 1428 2787 \r\nQ 1159 2491 1159 1978 \r\nL 1159 0 \r\nL 581 0 \r\nL 581 3500 \r\nL 1159 3500 \r\nL 1159 2956 \r\nQ 1366 3272 1645 3428 \r\nQ 1925 3584 2291 3584 \r\nQ 2894 3584 3203 3211 \r\nQ 3513 2838 3513 2113 \r\nz\r\n\" id=\"DejaVuSans-6e\" transform=\"scale(0.015625)\"/>\r\n       </defs>\r\n       <use xlink:href=\"#DejaVuSans-65\"/>\r\n       <use x=\"61.523438\" xlink:href=\"#DejaVuSans-6c\"/>\r\n       <use x=\"89.306641\" xlink:href=\"#DejaVuSans-65\"/>\r\n       <use x=\"150.830078\" xlink:href=\"#DejaVuSans-63\"/>\r\n       <use x=\"205.810547\" xlink:href=\"#DejaVuSans-74\"/>\r\n       <use x=\"245.019531\" xlink:href=\"#DejaVuSans-72\"/>\r\n       <use x=\"283.882812\" xlink:href=\"#DejaVuSans-6f\"/>\r\n       <use x=\"345.064453\" xlink:href=\"#DejaVuSans-6e\"/>\r\n       <use x=\"408.443359\" xlink:href=\"#DejaVuSans-69\"/>\r\n       <use x=\"436.226562\" xlink:href=\"#DejaVuSans-63\"/>\r\n      </g>\r\n     </g>\r\n    </g>\r\n    <g id=\"ytick_2\">\r\n     <g id=\"line2d_13\">\r\n      <path clip-path=\"url(#pdaf2a507de)\" d=\"M 89.723438 425.112468 \r\nL 912.733438 425.112468 \r\n\" style=\"fill:none;stroke:#ffffff;stroke-linecap:square;stroke-width:0.8;\"/>\r\n     </g>\r\n     <g id=\"line2d_14\">\r\n      <g>\r\n       <use style=\"fill:#555555;stroke:#555555;stroke-width:0.8;\" x=\"89.723438\" xlink:href=\"#m5f36860700\" y=\"425.112468\"/>\r\n      </g>\r\n     </g>\r\n     <g id=\"text_8\">\r\n      <!-- foundation -->\r\n      <g style=\"fill:#555555;\" transform=\"translate(7.2 430.431374)scale(0.14 -0.14)\">\r\n       <defs>\r\n        <path d=\"M 2375 4863 \r\nL 2375 4384 \r\nL 1825 4384 \r\nQ 1516 4384 1395 4259 \r\nQ 1275 4134 1275 3809 \r\nL 1275 3500 \r\nL 2222 3500 \r\nL 2222 3053 \r\nL 1275 3053 \r\nL 1275 0 \r\nL 697 0 \r\nL 697 3053 \r\nL 147 3053 \r\nL 147 3500 \r\nL 697 3500 \r\nL 697 3744 \r\nQ 697 4328 969 4595 \r\nQ 1241 4863 1831 4863 \r\nL 2375 4863 \r\nz\r\n\" id=\"DejaVuSans-66\" transform=\"scale(0.015625)\"/>\r\n        <path d=\"M 544 1381 \r\nL 544 3500 \r\nL 1119 3500 \r\nL 1119 1403 \r\nQ 1119 906 1312 657 \r\nQ 1506 409 1894 409 \r\nQ 2359 409 2629 706 \r\nQ 2900 1003 2900 1516 \r\nL 2900 3500 \r\nL 3475 3500 \r\nL 3475 0 \r\nL 2900 0 \r\nL 2900 538 \r\nQ 2691 219 2414 64 \r\nQ 2138 -91 1772 -91 \r\nQ 1169 -91 856 284 \r\nQ 544 659 544 1381 \r\nz\r\nM 1991 3584 \r\nL 1991 3584 \r\nz\r\n\" id=\"DejaVuSans-75\" transform=\"scale(0.015625)\"/>\r\n        <path d=\"M 2906 2969 \r\nL 2906 4863 \r\nL 3481 4863 \r\nL 3481 0 \r\nL 2906 0 \r\nL 2906 525 \r\nQ 2725 213 2448 61 \r\nQ 2172 -91 1784 -91 \r\nQ 1150 -91 751 415 \r\nQ 353 922 353 1747 \r\nQ 353 2572 751 3078 \r\nQ 1150 3584 1784 3584 \r\nQ 2172 3584 2448 3432 \r\nQ 2725 3281 2906 2969 \r\nz\r\nM 947 1747 \r\nQ 947 1113 1208 752 \r\nQ 1469 391 1925 391 \r\nQ 2381 391 2643 752 \r\nQ 2906 1113 2906 1747 \r\nQ 2906 2381 2643 2742 \r\nQ 2381 3103 1925 3103 \r\nQ 1469 3103 1208 2742 \r\nQ 947 2381 947 1747 \r\nz\r\n\" id=\"DejaVuSans-64\" transform=\"scale(0.015625)\"/>\r\n        <path d=\"M 2194 1759 \r\nQ 1497 1759 1228 1600 \r\nQ 959 1441 959 1056 \r\nQ 959 750 1161 570 \r\nQ 1363 391 1709 391 \r\nQ 2188 391 2477 730 \r\nQ 2766 1069 2766 1631 \r\nL 2766 1759 \r\nL 2194 1759 \r\nz\r\nM 3341 1997 \r\nL 3341 0 \r\nL 2766 0 \r\nL 2766 531 \r\nQ 2569 213 2275 61 \r\nQ 1981 -91 1556 -91 \r\nQ 1019 -91 701 211 \r\nQ 384 513 384 1019 \r\nQ 384 1609 779 1909 \r\nQ 1175 2209 1959 2209 \r\nL 2766 2209 \r\nL 2766 2266 \r\nQ 2766 2663 2505 2880 \r\nQ 2244 3097 1772 3097 \r\nQ 1472 3097 1187 3025 \r\nQ 903 2953 641 2809 \r\nL 641 3341 \r\nQ 956 3463 1253 3523 \r\nQ 1550 3584 1831 3584 \r\nQ 2591 3584 2966 3190 \r\nQ 3341 2797 3341 1997 \r\nz\r\n\" id=\"DejaVuSans-61\" transform=\"scale(0.015625)\"/>\r\n       </defs>\r\n       <use xlink:href=\"#DejaVuSans-66\"/>\r\n       <use x=\"35.205078\" xlink:href=\"#DejaVuSans-6f\"/>\r\n       <use x=\"96.386719\" xlink:href=\"#DejaVuSans-75\"/>\r\n       <use x=\"159.765625\" xlink:href=\"#DejaVuSans-6e\"/>\r\n       <use x=\"223.144531\" xlink:href=\"#DejaVuSans-64\"/>\r\n       <use x=\"286.621094\" xlink:href=\"#DejaVuSans-61\"/>\r\n       <use x=\"347.900391\" xlink:href=\"#DejaVuSans-74\"/>\r\n       <use x=\"387.109375\" xlink:href=\"#DejaVuSans-69\"/>\r\n       <use x=\"414.892578\" xlink:href=\"#DejaVuSans-6f\"/>\r\n       <use x=\"476.074219\" xlink:href=\"#DejaVuSans-6e\"/>\r\n      </g>\r\n     </g>\r\n    </g>\r\n    <g id=\"ytick_3\">\r\n     <g id=\"line2d_15\">\r\n      <path clip-path=\"url(#pdaf2a507de)\" d=\"M 89.723438 378.103191 \r\nL 912.733438 378.103191 \r\n\" style=\"fill:none;stroke:#ffffff;stroke-linecap:square;stroke-width:0.8;\"/>\r\n     </g>\r\n     <g id=\"line2d_16\">\r\n      <g>\r\n       <use style=\"fill:#555555;stroke:#555555;stroke-width:0.8;\" x=\"89.723438\" xlink:href=\"#m5f36860700\" y=\"378.103191\"/>\r\n      </g>\r\n     </g>\r\n     <g id=\"text_9\">\r\n      <!-- gutenberg -->\r\n      <g style=\"fill:#555555;\" transform=\"translate(10.0875 383.422097)scale(0.14 -0.14)\">\r\n       <defs>\r\n        <path d=\"M 3116 1747 \r\nQ 3116 2381 2855 2742 \r\nQ 2594 3103 2138 3103 \r\nQ 1681 3103 1420 2742 \r\nQ 1159 2381 1159 1747 \r\nQ 1159 1113 1420 752 \r\nQ 1681 391 2138 391 \r\nQ 2594 391 2855 752 \r\nQ 3116 1113 3116 1747 \r\nz\r\nM 1159 2969 \r\nQ 1341 3281 1617 3432 \r\nQ 1894 3584 2278 3584 \r\nQ 2916 3584 3314 3078 \r\nQ 3713 2572 3713 1747 \r\nQ 3713 922 3314 415 \r\nQ 2916 -91 2278 -91 \r\nQ 1894 -91 1617 61 \r\nQ 1341 213 1159 525 \r\nL 1159 0 \r\nL 581 0 \r\nL 581 4863 \r\nL 1159 4863 \r\nL 1159 2969 \r\nz\r\n\" id=\"DejaVuSans-62\" transform=\"scale(0.015625)\"/>\r\n       </defs>\r\n       <use xlink:href=\"#DejaVuSans-67\"/>\r\n       <use x=\"63.476562\" xlink:href=\"#DejaVuSans-75\"/>\r\n       <use x=\"126.855469\" xlink:href=\"#DejaVuSans-74\"/>\r\n       <use x=\"166.064453\" xlink:href=\"#DejaVuSans-65\"/>\r\n       <use x=\"227.587891\" xlink:href=\"#DejaVuSans-6e\"/>\r\n       <use x=\"290.966797\" xlink:href=\"#DejaVuSans-62\"/>\r\n       <use x=\"354.443359\" xlink:href=\"#DejaVuSans-65\"/>\r\n       <use x=\"415.966797\" xlink:href=\"#DejaVuSans-72\"/>\r\n       <use x=\"455.330078\" xlink:href=\"#DejaVuSans-67\"/>\r\n      </g>\r\n     </g>\r\n    </g>\r\n    <g id=\"ytick_4\">\r\n     <g id=\"line2d_17\">\r\n      <path clip-path=\"url(#pdaf2a507de)\" d=\"M 89.723438 331.093915 \r\nL 912.733438 331.093915 \r\n\" style=\"fill:none;stroke:#ffffff;stroke-linecap:square;stroke-width:0.8;\"/>\r\n     </g>\r\n     <g id=\"line2d_18\">\r\n      <g>\r\n       <use style=\"fill:#555555;stroke:#555555;stroke-width:0.8;\" x=\"89.723438\" xlink:href=\"#m5f36860700\" y=\"331.093915\"/>\r\n      </g>\r\n     </g>\r\n     <g id=\"text_10\">\r\n      <!-- terms -->\r\n      <g style=\"fill:#555555;\" transform=\"translate(42.180313 336.412821)scale(0.14 -0.14)\">\r\n       <defs>\r\n        <path d=\"M 2834 3397 \r\nL 2834 2853 \r\nQ 2591 2978 2328 3040 \r\nQ 2066 3103 1784 3103 \r\nQ 1356 3103 1142 2972 \r\nQ 928 2841 928 2578 \r\nQ 928 2378 1081 2264 \r\nQ 1234 2150 1697 2047 \r\nL 1894 2003 \r\nQ 2506 1872 2764 1633 \r\nQ 3022 1394 3022 966 \r\nQ 3022 478 2636 193 \r\nQ 2250 -91 1575 -91 \r\nQ 1294 -91 989 -36 \r\nQ 684 19 347 128 \r\nL 347 722 \r\nQ 666 556 975 473 \r\nQ 1284 391 1588 391 \r\nQ 1994 391 2212 530 \r\nQ 2431 669 2431 922 \r\nQ 2431 1156 2273 1281 \r\nQ 2116 1406 1581 1522 \r\nL 1381 1569 \r\nQ 847 1681 609 1914 \r\nQ 372 2147 372 2553 \r\nQ 372 3047 722 3315 \r\nQ 1072 3584 1716 3584 \r\nQ 2034 3584 2315 3537 \r\nQ 2597 3491 2834 3397 \r\nz\r\n\" id=\"DejaVuSans-73\" transform=\"scale(0.015625)\"/>\r\n       </defs>\r\n       <use xlink:href=\"#DejaVuSans-74\"/>\r\n       <use x=\"39.208984\" xlink:href=\"#DejaVuSans-65\"/>\r\n       <use x=\"100.732422\" xlink:href=\"#DejaVuSans-72\"/>\r\n       <use x=\"140.095703\" xlink:href=\"#DejaVuSans-6d\"/>\r\n       <use x=\"237.507812\" xlink:href=\"#DejaVuSans-73\"/>\r\n      </g>\r\n     </g>\r\n    </g>\r\n    <g id=\"ytick_5\">\r\n     <g id=\"line2d_19\">\r\n      <path clip-path=\"url(#pdaf2a507de)\" d=\"M 89.723438 284.084638 \r\nL 912.733438 284.084638 \r\n\" style=\"fill:none;stroke:#ffffff;stroke-linecap:square;stroke-width:0.8;\"/>\r\n     </g>\r\n     <g id=\"line2d_20\">\r\n      <g>\r\n       <use style=\"fill:#555555;stroke:#555555;stroke-width:0.8;\" x=\"89.723438\" xlink:href=\"#m5f36860700\" y=\"284.084638\"/>\r\n      </g>\r\n     </g>\r\n     <g id=\"text_11\">\r\n      <!-- tm -->\r\n      <g style=\"fill:#555555;\" transform=\"translate(63.598125 289.403544)scale(0.14 -0.14)\">\r\n       <use xlink:href=\"#DejaVuSans-74\"/>\r\n       <use x=\"39.208984\" xlink:href=\"#DejaVuSans-6d\"/>\r\n      </g>\r\n     </g>\r\n    </g>\r\n    <g id=\"ytick_6\">\r\n     <g id=\"line2d_21\">\r\n      <path clip-path=\"url(#pdaf2a507de)\" d=\"M 89.723438 237.075362 \r\nL 912.733438 237.075362 \r\n\" style=\"fill:none;stroke:#ffffff;stroke-linecap:square;stroke-width:0.8;\"/>\r\n     </g>\r\n     <g id=\"line2d_22\">\r\n      <g>\r\n       <use style=\"fill:#555555;stroke:#555555;stroke-width:0.8;\" x=\"89.723438\" xlink:href=\"#m5f36860700\" y=\"237.075362\"/>\r\n      </g>\r\n     </g>\r\n     <g id=\"text_12\">\r\n      <!-- project -->\r\n      <g style=\"fill:#555555;\" transform=\"translate(34.139063 242.394268)scale(0.14 -0.14)\">\r\n       <defs>\r\n        <path d=\"M 1159 525 \r\nL 1159 -1331 \r\nL 581 -1331 \r\nL 581 3500 \r\nL 1159 3500 \r\nL 1159 2969 \r\nQ 1341 3281 1617 3432 \r\nQ 1894 3584 2278 3584 \r\nQ 2916 3584 3314 3078 \r\nQ 3713 2572 3713 1747 \r\nQ 3713 922 3314 415 \r\nQ 2916 -91 2278 -91 \r\nQ 1894 -91 1617 61 \r\nQ 1341 213 1159 525 \r\nz\r\nM 3116 1747 \r\nQ 3116 2381 2855 2742 \r\nQ 2594 3103 2138 3103 \r\nQ 1681 3103 1420 2742 \r\nQ 1159 2381 1159 1747 \r\nQ 1159 1113 1420 752 \r\nQ 1681 391 2138 391 \r\nQ 2594 391 2855 752 \r\nQ 3116 1113 3116 1747 \r\nz\r\n\" id=\"DejaVuSans-70\" transform=\"scale(0.015625)\"/>\r\n        <path d=\"M 603 3500 \r\nL 1178 3500 \r\nL 1178 -63 \r\nQ 1178 -731 923 -1031 \r\nQ 669 -1331 103 -1331 \r\nL -116 -1331 \r\nL -116 -844 \r\nL 38 -844 \r\nQ 366 -844 484 -692 \r\nQ 603 -541 603 -63 \r\nL 603 3500 \r\nz\r\nM 603 4863 \r\nL 1178 4863 \r\nL 1178 4134 \r\nL 603 4134 \r\nL 603 4863 \r\nz\r\n\" id=\"DejaVuSans-6a\" transform=\"scale(0.015625)\"/>\r\n       </defs>\r\n       <use xlink:href=\"#DejaVuSans-70\"/>\r\n       <use x=\"63.476562\" xlink:href=\"#DejaVuSans-72\"/>\r\n       <use x=\"102.339844\" xlink:href=\"#DejaVuSans-6f\"/>\r\n       <use x=\"163.521484\" xlink:href=\"#DejaVuSans-6a\"/>\r\n       <use x=\"191.304688\" xlink:href=\"#DejaVuSans-65\"/>\r\n       <use x=\"252.828125\" xlink:href=\"#DejaVuSans-63\"/>\r\n       <use x=\"307.808594\" xlink:href=\"#DejaVuSans-74\"/>\r\n      </g>\r\n     </g>\r\n    </g>\r\n    <g id=\"ytick_7\">\r\n     <g id=\"line2d_23\">\r\n      <path clip-path=\"url(#pdaf2a507de)\" d=\"M 89.723438 190.066085 \r\nL 912.733438 190.066085 \r\n\" style=\"fill:none;stroke:#ffffff;stroke-linecap:square;stroke-width:0.8;\"/>\r\n     </g>\r\n     <g id=\"line2d_24\">\r\n      <g>\r\n       <use style=\"fill:#555555;stroke:#555555;stroke-width:0.8;\" x=\"89.723438\" xlink:href=\"#m5f36860700\" y=\"190.066085\"/>\r\n      </g>\r\n     </g>\r\n     <g id=\"text_13\">\r\n      <!-- work -->\r\n      <g style=\"fill:#555555;\" transform=\"translate(48.845625 195.384992)scale(0.14 -0.14)\">\r\n       <defs>\r\n        <path d=\"M 269 3500 \r\nL 844 3500 \r\nL 1563 769 \r\nL 2278 3500 \r\nL 2956 3500 \r\nL 3675 769 \r\nL 4391 3500 \r\nL 4966 3500 \r\nL 4050 0 \r\nL 3372 0 \r\nL 2619 2869 \r\nL 1863 0 \r\nL 1184 0 \r\nL 269 3500 \r\nz\r\n\" id=\"DejaVuSans-77\" transform=\"scale(0.015625)\"/>\r\n        <path d=\"M 581 4863 \r\nL 1159 4863 \r\nL 1159 1991 \r\nL 2875 3500 \r\nL 3609 3500 \r\nL 1753 1863 \r\nL 3688 0 \r\nL 2938 0 \r\nL 1159 1709 \r\nL 1159 0 \r\nL 581 0 \r\nL 581 4863 \r\nz\r\n\" id=\"DejaVuSans-6b\" transform=\"scale(0.015625)\"/>\r\n       </defs>\r\n       <use xlink:href=\"#DejaVuSans-77\"/>\r\n       <use x=\"81.787109\" xlink:href=\"#DejaVuSans-6f\"/>\r\n       <use x=\"142.96875\" xlink:href=\"#DejaVuSans-72\"/>\r\n       <use x=\"184.082031\" xlink:href=\"#DejaVuSans-6b\"/>\r\n      </g>\r\n     </g>\r\n    </g>\r\n    <g id=\"ytick_8\">\r\n     <g id=\"line2d_25\">\r\n      <path clip-path=\"url(#pdaf2a507de)\" d=\"M 89.723438 143.056809 \r\nL 912.733438 143.056809 \r\n\" style=\"fill:none;stroke:#ffffff;stroke-linecap:square;stroke-width:0.8;\"/>\r\n     </g>\r\n     <g id=\"line2d_26\">\r\n      <g>\r\n       <use style=\"fill:#555555;stroke:#555555;stroke-width:0.8;\" x=\"89.723438\" xlink:href=\"#m5f36860700\" y=\"143.056809\"/>\r\n      </g>\r\n     </g>\r\n     <g id=\"text_14\">\r\n      <!-- copyright -->\r\n      <g style=\"fill:#555555;\" transform=\"translate(16.391875 148.375715)scale(0.14 -0.14)\">\r\n       <defs>\r\n        <path d=\"M 2059 -325 \r\nQ 1816 -950 1584 -1140 \r\nQ 1353 -1331 966 -1331 \r\nL 506 -1331 \r\nL 506 -850 \r\nL 844 -850 \r\nQ 1081 -850 1212 -737 \r\nQ 1344 -625 1503 -206 \r\nL 1606 56 \r\nL 191 3500 \r\nL 800 3500 \r\nL 1894 763 \r\nL 2988 3500 \r\nL 3597 3500 \r\nL 2059 -325 \r\nz\r\n\" id=\"DejaVuSans-79\" transform=\"scale(0.015625)\"/>\r\n       </defs>\r\n       <use xlink:href=\"#DejaVuSans-63\"/>\r\n       <use x=\"54.980469\" xlink:href=\"#DejaVuSans-6f\"/>\r\n       <use x=\"116.162109\" xlink:href=\"#DejaVuSans-70\"/>\r\n       <use x=\"179.638672\" xlink:href=\"#DejaVuSans-79\"/>\r\n       <use x=\"238.818359\" xlink:href=\"#DejaVuSans-72\"/>\r\n       <use x=\"279.931641\" xlink:href=\"#DejaVuSans-69\"/>\r\n       <use x=\"307.714844\" xlink:href=\"#DejaVuSans-67\"/>\r\n       <use x=\"371.191406\" xlink:href=\"#DejaVuSans-68\"/>\r\n       <use x=\"434.570312\" xlink:href=\"#DejaVuSans-74\"/>\r\n      </g>\r\n     </g>\r\n    </g>\r\n    <g id=\"ytick_9\">\r\n     <g id=\"line2d_27\">\r\n      <path clip-path=\"url(#pdaf2a507de)\" d=\"M 89.723438 96.047532 \r\nL 912.733438 96.047532 \r\n\" style=\"fill:none;stroke:#ffffff;stroke-linecap:square;stroke-width:0.8;\"/>\r\n     </g>\r\n     <g id=\"line2d_28\">\r\n      <g>\r\n       <use style=\"fill:#555555;stroke:#555555;stroke-width:0.8;\" x=\"89.723438\" xlink:href=\"#m5f36860700\" y=\"96.047532\"/>\r\n      </g>\r\n     </g>\r\n     <g id=\"text_15\">\r\n      <!-- works -->\r\n      <g style=\"fill:#555555;\" transform=\"translate(41.5525 101.366439)scale(0.14 -0.14)\">\r\n       <use xlink:href=\"#DejaVuSans-77\"/>\r\n       <use x=\"81.787109\" xlink:href=\"#DejaVuSans-6f\"/>\r\n       <use x=\"142.96875\" xlink:href=\"#DejaVuSans-72\"/>\r\n       <use x=\"184.082031\" xlink:href=\"#DejaVuSans-6b\"/>\r\n       <use x=\"241.992188\" xlink:href=\"#DejaVuSans-73\"/>\r\n      </g>\r\n     </g>\r\n    </g>\r\n    <g id=\"ytick_10\">\r\n     <g id=\"line2d_29\">\r\n      <path clip-path=\"url(#pdaf2a507de)\" d=\"M 89.723438 49.038256 \r\nL 912.733438 49.038256 \r\n\" style=\"fill:none;stroke:#ffffff;stroke-linecap:square;stroke-width:0.8;\"/>\r\n     </g>\r\n     <g id=\"line2d_30\">\r\n      <g>\r\n       <use style=\"fill:#555555;stroke:#555555;stroke-width:0.8;\" x=\"89.723438\" xlink:href=\"#m5f36860700\" y=\"49.038256\"/>\r\n      </g>\r\n     </g>\r\n     <g id=\"text_16\">\r\n      <!-- law -->\r\n      <g style=\"fill:#555555;\" transform=\"translate(58.805313 54.357162)scale(0.14 -0.14)\">\r\n       <use xlink:href=\"#DejaVuSans-6c\"/>\r\n       <use x=\"27.783203\" xlink:href=\"#DejaVuSans-61\"/>\r\n       <use x=\"89.0625\" xlink:href=\"#DejaVuSans-77\"/>\r\n      </g>\r\n     </g>\r\n    </g>\r\n   </g>\r\n   <g id=\"patch_3\">\r\n    <path clip-path=\"url(#pdaf2a507de)\" d=\"M 89.723438 490.925455 \r\nL 89.723438 490.925455 \r\nL 89.723438 453.318033 \r\nL 89.723438 453.318033 \r\nz\r\n\" style=\"fill:#008000;\"/>\r\n   </g>\r\n   <g id=\"patch_4\">\r\n    <path clip-path=\"url(#pdaf2a507de)\" d=\"M 89.723438 443.916178 \r\nL 89.723438 443.916178 \r\nL 89.723438 406.308757 \r\nL 89.723438 406.308757 \r\nz\r\n\" style=\"fill:#008000;\"/>\r\n   </g>\r\n   <g id=\"patch_5\">\r\n    <path clip-path=\"url(#pdaf2a507de)\" d=\"M 89.723438 396.906902 \r\nL 89.723438 396.906902 \r\nL 89.723438 359.299481 \r\nL 89.723438 359.299481 \r\nz\r\n\" style=\"fill:#008000;\"/>\r\n   </g>\r\n   <g id=\"patch_6\">\r\n    <path clip-path=\"url(#pdaf2a507de)\" d=\"M 89.723438 349.897625 \r\nL 89.723438 349.897625 \r\nL 89.723438 312.290204 \r\nL 89.723438 312.290204 \r\nz\r\n\" style=\"fill:#008000;\"/>\r\n   </g>\r\n   <g id=\"patch_7\">\r\n    <path clip-path=\"url(#pdaf2a507de)\" d=\"M 89.723438 302.888349 \r\nL 89.723438 302.888349 \r\nL 89.723438 265.280928 \r\nL 89.723438 265.280928 \r\nz\r\n\" style=\"fill:#008000;\"/>\r\n   </g>\r\n   <g id=\"patch_8\">\r\n    <path clip-path=\"url(#pdaf2a507de)\" d=\"M 89.723438 255.879072 \r\nL 89.723438 255.879072 \r\nL 89.723438 218.271651 \r\nL 89.723438 218.271651 \r\nz\r\n\" style=\"fill:#008000;\"/>\r\n   </g>\r\n   <g id=\"patch_9\">\r\n    <path clip-path=\"url(#pdaf2a507de)\" d=\"M 89.723438 208.869796 \r\nL 89.723438 208.869796 \r\nL 89.723438 171.262375 \r\nL 89.723438 171.262375 \r\nz\r\n\" style=\"fill:#008000;\"/>\r\n   </g>\r\n   <g id=\"patch_10\">\r\n    <path clip-path=\"url(#pdaf2a507de)\" d=\"M 89.723438 161.860519 \r\nL 89.723438 161.860519 \r\nL 89.723438 124.253098 \r\nL 89.723438 124.253098 \r\nz\r\n\" style=\"fill:#008000;\"/>\r\n   </g>\r\n   <g id=\"patch_11\">\r\n    <path clip-path=\"url(#pdaf2a507de)\" d=\"M 89.723438 114.851243 \r\nL 89.723438 114.851243 \r\nL 89.723438 77.243822 \r\nL 89.723438 77.243822 \r\nz\r\n\" style=\"fill:#008000;\"/>\r\n   </g>\r\n   <g id=\"patch_12\">\r\n    <path clip-path=\"url(#pdaf2a507de)\" d=\"M 89.723438 67.841967 \r\nL 873.542485 67.841967 \r\nL 873.542485 30.234545 \r\nL 89.723438 30.234545 \r\nz\r\n\" style=\"fill:#008000;\"/>\r\n   </g>\r\n   <g id=\"patch_13\">\r\n    <path d=\"M 89.723438 513.96 \r\nL 89.723438 7.2 \r\n\" style=\"fill:none;stroke:#ffffff;stroke-linecap:square;stroke-linejoin:miter;\"/>\r\n   </g>\r\n   <g id=\"patch_14\">\r\n    <path d=\"M 912.733438 513.96 \r\nL 912.733438 7.2 \r\n\" style=\"fill:none;stroke:#ffffff;stroke-linecap:square;stroke-linejoin:miter;\"/>\r\n   </g>\r\n   <g id=\"patch_15\">\r\n    <path d=\"M 89.723438 513.96 \r\nL 912.733438 513.96 \r\n\" style=\"fill:none;stroke:#ffffff;stroke-linecap:square;stroke-linejoin:miter;\"/>\r\n   </g>\r\n   <g id=\"patch_16\">\r\n    <path d=\"M 89.723438 7.2 \r\nL 912.733438 7.2 \r\n\" style=\"fill:none;stroke:#ffffff;stroke-linecap:square;stroke-linejoin:miter;\"/>\r\n   </g>\r\n  </g>\r\n </g>\r\n <defs>\r\n  <clipPath id=\"pdaf2a507de\">\r\n   <rect height=\"506.76\" width=\"823.01\" x=\"89.723438\" y=\"7.2\"/>\r\n  </clipPath>\r\n </defs>\r\n</svg>\r\n",
      "image/png": "[encoded data removed]"
     },
     "metadata": {}
    }
   ],
   "source": [
    "plot_top_term_weights( terms, H, 3, 10 )"
   ]
  },
  {
   "cell_type": "code",
   "execution_count": 45,
   "metadata": {},
   "outputs": [],
   "source": [
    "def get_top_snippets( all_snippets, W, topic_index, top ):\n",
    "    # reverse sort the values to sort the indices\n",
    "    top_indices = np.argsort( W[:,topic_index] )[::-1]\n",
    "    # now get the snippets corresponding to the top-ranked indices\n",
    "    top_snippets = []\n",
    "    for doc_index in top_indices[0:top]:\n",
    "        top_snippets.append( all_snippets[doc_index] )\n",
    "    return top_snippets\n",
    "    "
   ]
  },
  {
   "cell_type": "code",
   "execution_count": 46,
   "metadata": {},
   "outputs": [
    {
     "output_type": "stream",
     "name": "stdout",
     "text": [
      "01. donate, please visit: www.gutenberg.org/donate\n02. eBook or online at www.gutenberg.org. If you are not located in the\n03. facility: www.gutenberg.org\n04. Gutenberg eBooks may be modified and printed and given away--you may\n05. state visit www.gutenberg.org/donate\n06. www.gutenberg.org/license.\n07. www.gutenberg.org. If you are not located in the United States, you\n08. (www.gutenberg.org), you must, at no additional cost, fee or expense\n09. and official page at www.gutenberg.org/contact\n10. www.gutenberg.org\n"
     ]
    }
   ],
   "source": [
    "topic_snippets = get_top_snippets( snippets, W, 0, 10 )\n",
    "for i, snippet in enumerate(topic_snippets):\n",
    "    print(\"%02d. %s\" % ( (i+1), snippet ) )"
   ]
  },
  {
   "cell_type": "code",
   "execution_count": 47,
   "metadata": {},
   "outputs": [
    {
     "output_type": "stream",
     "name": "stdout",
     "text": [
      "01. in paragraph 1.F.3, this work is provided to you 'AS-IS', WITH NO\n02. with the defective work may elect to provide a replacement copy in\n03. any money paid for a work or a replacement copy, if a defect in the\n04. receipt of the work.\n05. of obtaining a copy upon request, of the work in its original \"Plain\n06. PLEASE READ THIS BEFORE YOU DISTRIBUTE OR USE THIS WORK\n07. written explanation to the person you received the work from. If you\n08. received the work on a physical medium, you must return the medium\n09. 1.E.6. You may convert to and distribute this work in any binary,\n10. beginning of this work.\n"
     ]
    }
   ],
   "source": [
    "topic_snippets = get_top_snippets( snippets, W, 1, 10 )\n",
    "for i, snippet in enumerate(topic_snippets):\n",
    "    print(\"%02d. %s\" % ( (i+1), snippet ) )"
   ]
  },
  {
   "cell_type": "code",
   "execution_count": 48,
   "metadata": {},
   "outputs": [
    {
     "output_type": "execute_result",
     "data": {
      "text/plain": [
       "['articles-model-nmf-k10.pkl']"
      ]
     },
     "metadata": {},
     "execution_count": 48
    }
   ],
   "source": [
    "joblib.dump((W,H,terms,snippets), \"articles-model-nmf-k%02d.pkl\" % k)"
   ]
  },
  {
   "cell_type": "code",
   "execution_count": 49,
   "metadata": {},
   "outputs": [
    {
     "output_type": "stream",
     "name": "stdout",
     "text": [
      "Loaded 832 X 10 document-term matrix\n"
     ]
    }
   ],
   "source": [
    "(A,terms,snippets) = joblib.load( \"articles-tfidf.pkl\" )\n",
    "print( \"Loaded %d X %d document-term matrix\" % (A.shape[0], A.shape[1]) )"
   ]
  },
  {
   "cell_type": "code",
   "execution_count": 50,
   "metadata": {},
   "outputs": [],
   "source": [
    "kmin, kmax = 4, 9"
   ]
  },
  {
   "cell_type": "code",
   "execution_count": 51,
   "metadata": {},
   "outputs": [
    {
     "output_type": "stream",
     "name": "stdout",
     "text": [
      "Applying NMF for k=4 ...\nApplying NMF for k=5 ...\nApplying NMF for k=6 ...\nApplying NMF for k=7 ...\nApplying NMF for k=8 ...\nApplying NMF for k=9 ...\n"
     ]
    }
   ],
   "source": [
    "from sklearn import decomposition\n",
    "topic_models = []\n",
    "# try each value of k\n",
    "for k in range(kmin,kmax+1):\n",
    "    print(\"Applying NMF for k=%d ...\" % k )\n",
    "    # run NMF\n",
    "    model = decomposition.NMF( init=\"nndsvd\", n_components=k ) \n",
    "    W = model.fit_transform( A )\n",
    "    H = model.components_    \n",
    "    # store for later\n",
    "    topic_models.append( (k,W,H) )"
   ]
  },
  {
   "cell_type": "code",
   "execution_count": 53,
   "metadata": {},
   "outputs": [
    {
     "output_type": "stream",
     "name": "stdout",
     "text": [
      "Read 832 raw text documents\n"
     ]
    }
   ],
   "source": [
    "import os.path\n",
    "raw_documents = []\n",
    "with open( os.path.join(\"uploads\", \"master_race.txt\") ,\"r\") as fin:\n",
    "    for line in fin.readlines():\n",
    "        raw_documents.append( line.strip().lower() )\n",
    "print(\"Read %d raw text documents\" % len(raw_documents))"
   ]
  },
  {
   "cell_type": "code",
   "execution_count": 54,
   "metadata": {},
   "outputs": [
    {
     "output_type": "stream",
     "name": "stdout",
     "text": [
      "Stopword list has 350 entries\n"
     ]
    }
   ],
   "source": [
    "custom_stop_words = []\n",
    "with open( \"stopwords.txt\", \"r\" ) as fin:\n",
    "    for line in fin.readlines():\n",
    "        custom_stop_words.append( line.strip().lower() )\n",
    "# note that we need to make it hashable\n",
    "print(\"Stopword list has %d entries\" % len(custom_stop_words) )"
   ]
  },
  {
   "cell_type": "code",
   "execution_count": 55,
   "metadata": {},
   "outputs": [],
   "source": [
    "import re\n",
    "class TokenGenerator:\n",
    "    def __init__( self, documents, stopwords ):\n",
    "        self.documents = documents\n",
    "        self.stopwords = stopwords\n",
    "        self.tokenizer = re.compile( r\"(?u)\\b\\w\\w+\\b\" )\n",
    "\n",
    "    def __iter__( self ):\n",
    "        print(\"Building Word2Vec model ...\")\n",
    "        for doc in self.documents:\n",
    "            tokens = []\n",
    "            for tok in self.tokenizer.findall( doc ):\n",
    "                if tok in self.stopwords:\n",
    "                    tokens.append( \"<stopword>\" )\n",
    "                elif len(tok) >= 2:\n",
    "                    tokens.append( tok )\n",
    "            yield tokens"
   ]
  },
  {
   "cell_type": "code",
   "execution_count": 56,
   "metadata": {},
   "outputs": [
    {
     "output_type": "stream",
     "name": "stdout",
     "text": [
      "Building Word2Vec model ...\n",
      "Building Word2Vec model ...\n",
      "Building Word2Vec model ...\n",
      "Building Word2Vec model ...\n",
      "Building Word2Vec model ...\n",
      "Building Word2Vec model ...\n"
     ]
    }
   ],
   "source": [
    "import gensim\n",
    "docgen = TokenGenerator( raw_documents, custom_stop_words )\n",
    "# the model has 500 dimensions, the minimum document-term frequency is 20\n",
    "w2v_model = gensim.models.Word2Vec(docgen, size=500, min_count=20, sg=1)"
   ]
  },
  {
   "cell_type": "code",
   "execution_count": 57,
   "metadata": {},
   "outputs": [
    {
     "output_type": "stream",
     "name": "stdout",
     "text": [
      "Model has 11 terms\n"
     ]
    }
   ],
   "source": [
    "print( \"Model has %d terms\" % len(w2v_model.wv.vocab) )"
   ]
  },
  {
   "cell_type": "code",
   "execution_count": 58,
   "metadata": {},
   "outputs": [],
   "source": [
    "w2v_model.save(\"w2v-model.bin\")"
   ]
  },
  {
   "cell_type": "code",
   "execution_count": 59,
   "metadata": {},
   "outputs": [],
   "source": [
    "# To re-load this model, run\n",
    "#w2v_model = gensim.models.Word2Vec.load(\"w2v-model.bin\")"
   ]
  },
  {
   "cell_type": "code",
   "execution_count": 60,
   "metadata": {},
   "outputs": [],
   "source": [
    "def calculate_coherence( w2v_model, term_rankings ):\n",
    "    overall_coherence = 0.0\n",
    "    for topic_index in range(len(term_rankings)):\n",
    "        # check each pair of terms\n",
    "        pair_scores = []\n",
    "        for pair in combinations( term_rankings[topic_index], 2 ):\n",
    "            pair_scores.append( w2v_model.similarity(pair[0], pair[1]) )\n",
    "        # get the mean for all pairs in this topic\n",
    "        topic_score = sum(pair_scores) / len(pair_scores)\n",
    "        overall_coherence += topic_score\n",
    "    # get the mean score across all topics\n",
    "    return overall_coherence / len(term_rankings)"
   ]
  },
  {
   "cell_type": "code",
   "execution_count": 61,
   "metadata": {},
   "outputs": [],
   "source": [
    "\n",
    "import numpy as np\n",
    "def get_descriptor( all_terms, H, topic_index, top ):\n",
    "    # reverse sort the values to sort the indices\n",
    "    top_indices = np.argsort( H[topic_index,:] )[::-1]\n",
    "    # now get the terms corresponding to the top-ranked indices\n",
    "    top_terms = []\n",
    "    for term_index in top_indices[0:top]:\n",
    "        top_terms.append( all_terms[term_index] )\n",
    "    return top_terms"
   ]
  },
  {
   "cell_type": "code",
   "execution_count": 62,
   "metadata": {},
   "outputs": [
    {
     "output_type": "stream",
     "name": "stdout",
     "text": [
      "K=04: Coherence=0.9686\n",
      "K=05: Coherence=0.9686\n",
      "K=06: Coherence=0.9686\n",
      "K=07: Coherence=0.9686\n",
      "K=08: Coherence=0.9686\n",
      "K=09: Coherence=0.9686\n",
      "<ipython-input-60-c8fae5ea8823>:7: DeprecationWarning: Call to deprecated `similarity` (Method will be removed in 4.0.0, use self.wv.similarity() instead).\n",
      "  pair_scores.append( w2v_model.similarity(pair[0], pair[1]) )\n"
     ]
    }
   ],
   "source": [
    "from itertools import combinations\n",
    "k_values = []\n",
    "coherences = []\n",
    "for (k,W,H) in topic_models:\n",
    "    # Get all of the topic descriptors - the term_rankings, based on top 10 terms\n",
    "    term_rankings = []\n",
    "    for topic_index in range(k):\n",
    "        term_rankings.append( get_descriptor( terms, H, topic_index, 10 ) )\n",
    "    # Now calculate the coherence based on our Word2vec model\n",
    "    k_values.append( k )\n",
    "    coherences.append( calculate_coherence( w2v_model, term_rankings ) )\n",
    "    print(\"K=%02d: Coherence=%.4f\" % ( k, coherences[-1] ) )"
   ]
  },
  {
   "cell_type": "code",
   "execution_count": 63,
   "metadata": {},
   "outputs": [],
   "source": [
    "import matplotlib\n",
    "import matplotlib.pyplot as plt\n",
    "plt.style.use(\"ggplot\")\n",
    "matplotlib.rcParams.update({\"font.size\": 14})"
   ]
  },
  {
   "cell_type": "code",
   "execution_count": 64,
   "metadata": {},
   "outputs": [
    {
     "output_type": "display_data",
     "data": {
      "text/plain": "<Figure size 936x504 with 1 Axes>",
      "image/svg+xml": "<?xml version=\"1.0\" encoding=\"utf-8\" standalone=\"no\"?>\r\n<!DOCTYPE svg PUBLIC \"-//W3C//DTD SVG 1.1//EN\"\r\n  \"http://www.w3.org/Graphics/SVG/1.1/DTD/svg11.dtd\">\r\n<svg height=\"435.728625pt\" version=\"1.1\" viewBox=\"0 0 798.231125 435.728625\" width=\"798.231125pt\" xmlns=\"http://www.w3.org/2000/svg\" xmlns:xlink=\"http://www.w3.org/1999/xlink\">\r\n <metadata>\r\n  <rdf:RDF xmlns:cc=\"http://creativecommons.org/ns#\" xmlns:dc=\"http://purl.org/dc/elements/1.1/\" xmlns:rdf=\"http://www.w3.org/1999/02/22-rdf-syntax-ns#\">\r\n   <cc:Work>\r\n    <dc:type rdf:resource=\"http://purl.org/dc/dcmitype/StillImage\"/>\r\n    <dc:date>2021-05-04T13:38:27.822528</dc:date>\r\n    <dc:format>image/svg+xml</dc:format>\r\n    <dc:creator>\r\n     <cc:Agent>\r\n      <dc:title>Matplotlib v3.4.1, https://matplotlib.org/</dc:title>\r\n     </cc:Agent>\r\n    </dc:creator>\r\n   </cc:Work>\r\n  </rdf:RDF>\r\n </metadata>\r\n <defs>\r\n  <style type=\"text/css\">*{stroke-linecap:butt;stroke-linejoin:round;}</style>\r\n </defs>\r\n <g id=\"figure_1\">\r\n  <g id=\"patch_1\">\r\n   <path d=\"M 0 435.728625 \r\nL 798.231125 435.728625 \r\nL 798.231125 0 \r\nL 0 0 \r\nz\r\n\" style=\"fill:#ffffff;\"/>\r\n  </g>\r\n  <g id=\"axes_1\">\r\n   <g id=\"patch_2\">\r\n    <path d=\"M 65.631125 387.72 \r\nL 791.031125 387.72 \r\nL 791.031125 7.2 \r\nL 65.631125 7.2 \r\nz\r\n\" style=\"fill:#e5e5e5;\"/>\r\n   </g>\r\n   <g id=\"matplotlib.axis_1\">\r\n    <g id=\"xtick_1\">\r\n     <g id=\"line2d_1\">\r\n      <path clip-path=\"url(#p5a0ddab49e)\" d=\"M 98.603852 387.72 \r\nL 98.603852 7.2 \r\n\" style=\"fill:none;stroke:#ffffff;stroke-linecap:square;stroke-width:0.8;\"/>\r\n     </g>\r\n     <g id=\"line2d_2\">\r\n      <defs>\r\n       <path d=\"M 0 0 \r\nL 0 3.5 \r\n\" id=\"m5f42c942ea\" style=\"stroke:#555555;stroke-width:0.8;\"/>\r\n      </defs>\r\n      <g>\r\n       <use style=\"fill:#555555;stroke:#555555;stroke-width:0.8;\" x=\"98.603852\" xlink:href=\"#m5f42c942ea\" y=\"387.72\"/>\r\n      </g>\r\n     </g>\r\n     <g id=\"text_1\">\r\n      <!-- 4 -->\r\n      <g style=\"fill:#555555;\" transform=\"translate(94.150102 405.357813)scale(0.14 -0.14)\">\r\n       <defs>\r\n        <path d=\"M 2419 4116 \r\nL 825 1625 \r\nL 2419 1625 \r\nL 2419 4116 \r\nz\r\nM 2253 4666 \r\nL 3047 4666 \r\nL 3047 1625 \r\nL 3713 1625 \r\nL 3713 1100 \r\nL 3047 1100 \r\nL 3047 0 \r\nL 2419 0 \r\nL 2419 1100 \r\nL 313 1100 \r\nL 313 1709 \r\nL 2253 4666 \r\nz\r\n\" id=\"DejaVuSans-34\" transform=\"scale(0.015625)\"/>\r\n       </defs>\r\n       <use xlink:href=\"#DejaVuSans-34\"/>\r\n      </g>\r\n     </g>\r\n    </g>\r\n    <g id=\"xtick_2\">\r\n     <g id=\"line2d_3\">\r\n      <path clip-path=\"url(#p5a0ddab49e)\" d=\"M 230.494761 387.72 \r\nL 230.494761 7.2 \r\n\" style=\"fill:none;stroke:#ffffff;stroke-linecap:square;stroke-width:0.8;\"/>\r\n     </g>\r\n     <g id=\"line2d_4\">\r\n      <g>\r\n       <use style=\"fill:#555555;stroke:#555555;stroke-width:0.8;\" x=\"230.494761\" xlink:href=\"#m5f42c942ea\" y=\"387.72\"/>\r\n      </g>\r\n     </g>\r\n     <g id=\"text_2\">\r\n      <!-- 5 -->\r\n      <g style=\"fill:#555555;\" transform=\"translate(226.041011 405.357813)scale(0.14 -0.14)\">\r\n       <defs>\r\n        <path d=\"M 691 4666 \r\nL 3169 4666 \r\nL 3169 4134 \r\nL 1269 4134 \r\nL 1269 2991 \r\nQ 1406 3038 1543 3061 \r\nQ 1681 3084 1819 3084 \r\nQ 2600 3084 3056 2656 \r\nQ 3513 2228 3513 1497 \r\nQ 3513 744 3044 326 \r\nQ 2575 -91 1722 -91 \r\nQ 1428 -91 1123 -41 \r\nQ 819 9 494 109 \r\nL 494 744 \r\nQ 775 591 1075 516 \r\nQ 1375 441 1709 441 \r\nQ 2250 441 2565 725 \r\nQ 2881 1009 2881 1497 \r\nQ 2881 1984 2565 2268 \r\nQ 2250 2553 1709 2553 \r\nQ 1456 2553 1204 2497 \r\nQ 953 2441 691 2322 \r\nL 691 4666 \r\nz\r\n\" id=\"DejaVuSans-35\" transform=\"scale(0.015625)\"/>\r\n       </defs>\r\n       <use xlink:href=\"#DejaVuSans-35\"/>\r\n      </g>\r\n     </g>\r\n    </g>\r\n    <g id=\"xtick_3\">\r\n     <g id=\"line2d_5\">\r\n      <path clip-path=\"url(#p5a0ddab49e)\" d=\"M 362.38567 387.72 \r\nL 362.38567 7.2 \r\n\" style=\"fill:none;stroke:#ffffff;stroke-linecap:square;stroke-width:0.8;\"/>\r\n     </g>\r\n     <g id=\"line2d_6\">\r\n      <g>\r\n       <use style=\"fill:#555555;stroke:#555555;stroke-width:0.8;\" x=\"362.38567\" xlink:href=\"#m5f42c942ea\" y=\"387.72\"/>\r\n      </g>\r\n     </g>\r\n     <g id=\"text_3\">\r\n      <!-- 6 -->\r\n      <g style=\"fill:#555555;\" transform=\"translate(357.93192 405.357813)scale(0.14 -0.14)\">\r\n       <defs>\r\n        <path d=\"M 2113 2584 \r\nQ 1688 2584 1439 2293 \r\nQ 1191 2003 1191 1497 \r\nQ 1191 994 1439 701 \r\nQ 1688 409 2113 409 \r\nQ 2538 409 2786 701 \r\nQ 3034 994 3034 1497 \r\nQ 3034 2003 2786 2293 \r\nQ 2538 2584 2113 2584 \r\nz\r\nM 3366 4563 \r\nL 3366 3988 \r\nQ 3128 4100 2886 4159 \r\nQ 2644 4219 2406 4219 \r\nQ 1781 4219 1451 3797 \r\nQ 1122 3375 1075 2522 \r\nQ 1259 2794 1537 2939 \r\nQ 1816 3084 2150 3084 \r\nQ 2853 3084 3261 2657 \r\nQ 3669 2231 3669 1497 \r\nQ 3669 778 3244 343 \r\nQ 2819 -91 2113 -91 \r\nQ 1303 -91 875 529 \r\nQ 447 1150 447 2328 \r\nQ 447 3434 972 4092 \r\nQ 1497 4750 2381 4750 \r\nQ 2619 4750 2861 4703 \r\nQ 3103 4656 3366 4563 \r\nz\r\n\" id=\"DejaVuSans-36\" transform=\"scale(0.015625)\"/>\r\n       </defs>\r\n       <use xlink:href=\"#DejaVuSans-36\"/>\r\n      </g>\r\n     </g>\r\n    </g>\r\n    <g id=\"xtick_4\">\r\n     <g id=\"line2d_7\">\r\n      <path clip-path=\"url(#p5a0ddab49e)\" d=\"M 494.27658 387.72 \r\nL 494.27658 7.2 \r\n\" style=\"fill:none;stroke:#ffffff;stroke-linecap:square;stroke-width:0.8;\"/>\r\n     </g>\r\n     <g id=\"line2d_8\">\r\n      <g>\r\n       <use style=\"fill:#555555;stroke:#555555;stroke-width:0.8;\" x=\"494.27658\" xlink:href=\"#m5f42c942ea\" y=\"387.72\"/>\r\n      </g>\r\n     </g>\r\n     <g id=\"text_4\">\r\n      <!-- 7 -->\r\n      <g style=\"fill:#555555;\" transform=\"translate(489.82283 405.357813)scale(0.14 -0.14)\">\r\n       <defs>\r\n        <path d=\"M 525 4666 \r\nL 3525 4666 \r\nL 3525 4397 \r\nL 1831 0 \r\nL 1172 0 \r\nL 2766 4134 \r\nL 525 4134 \r\nL 525 4666 \r\nz\r\n\" id=\"DejaVuSans-37\" transform=\"scale(0.015625)\"/>\r\n       </defs>\r\n       <use xlink:href=\"#DejaVuSans-37\"/>\r\n      </g>\r\n     </g>\r\n    </g>\r\n    <g id=\"xtick_5\">\r\n     <g id=\"line2d_9\">\r\n      <path clip-path=\"url(#p5a0ddab49e)\" d=\"M 626.167489 387.72 \r\nL 626.167489 7.2 \r\n\" style=\"fill:none;stroke:#ffffff;stroke-linecap:square;stroke-width:0.8;\"/>\r\n     </g>\r\n     <g id=\"line2d_10\">\r\n      <g>\r\n       <use style=\"fill:#555555;stroke:#555555;stroke-width:0.8;\" x=\"626.167489\" xlink:href=\"#m5f42c942ea\" y=\"387.72\"/>\r\n      </g>\r\n     </g>\r\n     <g id=\"text_5\">\r\n      <!-- 8 -->\r\n      <g style=\"fill:#555555;\" transform=\"translate(621.713739 405.357813)scale(0.14 -0.14)\">\r\n       <defs>\r\n        <path d=\"M 2034 2216 \r\nQ 1584 2216 1326 1975 \r\nQ 1069 1734 1069 1313 \r\nQ 1069 891 1326 650 \r\nQ 1584 409 2034 409 \r\nQ 2484 409 2743 651 \r\nQ 3003 894 3003 1313 \r\nQ 3003 1734 2745 1975 \r\nQ 2488 2216 2034 2216 \r\nz\r\nM 1403 2484 \r\nQ 997 2584 770 2862 \r\nQ 544 3141 544 3541 \r\nQ 544 4100 942 4425 \r\nQ 1341 4750 2034 4750 \r\nQ 2731 4750 3128 4425 \r\nQ 3525 4100 3525 3541 \r\nQ 3525 3141 3298 2862 \r\nQ 3072 2584 2669 2484 \r\nQ 3125 2378 3379 2068 \r\nQ 3634 1759 3634 1313 \r\nQ 3634 634 3220 271 \r\nQ 2806 -91 2034 -91 \r\nQ 1263 -91 848 271 \r\nQ 434 634 434 1313 \r\nQ 434 1759 690 2068 \r\nQ 947 2378 1403 2484 \r\nz\r\nM 1172 3481 \r\nQ 1172 3119 1398 2916 \r\nQ 1625 2713 2034 2713 \r\nQ 2441 2713 2670 2916 \r\nQ 2900 3119 2900 3481 \r\nQ 2900 3844 2670 4047 \r\nQ 2441 4250 2034 4250 \r\nQ 1625 4250 1398 4047 \r\nQ 1172 3844 1172 3481 \r\nz\r\n\" id=\"DejaVuSans-38\" transform=\"scale(0.015625)\"/>\r\n       </defs>\r\n       <use xlink:href=\"#DejaVuSans-38\"/>\r\n      </g>\r\n     </g>\r\n    </g>\r\n    <g id=\"xtick_6\">\r\n     <g id=\"line2d_11\">\r\n      <path clip-path=\"url(#p5a0ddab49e)\" d=\"M 758.058398 387.72 \r\nL 758.058398 7.2 \r\n\" style=\"fill:none;stroke:#ffffff;stroke-linecap:square;stroke-width:0.8;\"/>\r\n     </g>\r\n     <g id=\"line2d_12\">\r\n      <g>\r\n       <use style=\"fill:#555555;stroke:#555555;stroke-width:0.8;\" x=\"758.058398\" xlink:href=\"#m5f42c942ea\" y=\"387.72\"/>\r\n      </g>\r\n     </g>\r\n     <g id=\"text_6\">\r\n      <!-- 9 -->\r\n      <g style=\"fill:#555555;\" transform=\"translate(753.604648 405.357813)scale(0.14 -0.14)\">\r\n       <defs>\r\n        <path d=\"M 703 97 \r\nL 703 672 \r\nQ 941 559 1184 500 \r\nQ 1428 441 1663 441 \r\nQ 2288 441 2617 861 \r\nQ 2947 1281 2994 2138 \r\nQ 2813 1869 2534 1725 \r\nQ 2256 1581 1919 1581 \r\nQ 1219 1581 811 2004 \r\nQ 403 2428 403 3163 \r\nQ 403 3881 828 4315 \r\nQ 1253 4750 1959 4750 \r\nQ 2769 4750 3195 4129 \r\nQ 3622 3509 3622 2328 \r\nQ 3622 1225 3098 567 \r\nQ 2575 -91 1691 -91 \r\nQ 1453 -91 1209 -44 \r\nQ 966 3 703 97 \r\nz\r\nM 1959 2075 \r\nQ 2384 2075 2632 2365 \r\nQ 2881 2656 2881 3163 \r\nQ 2881 3666 2632 3958 \r\nQ 2384 4250 1959 4250 \r\nQ 1534 4250 1286 3958 \r\nQ 1038 3666 1038 3163 \r\nQ 1038 2656 1286 2365 \r\nQ 1534 2075 1959 2075 \r\nz\r\n\" id=\"DejaVuSans-39\" transform=\"scale(0.015625)\"/>\r\n       </defs>\r\n       <use xlink:href=\"#DejaVuSans-39\"/>\r\n      </g>\r\n     </g>\r\n    </g>\r\n    <g id=\"text_7\">\r\n     <!-- Number of Topics -->\r\n     <g style=\"fill:#555555;\" transform=\"translate(355.6475 425.03475)scale(0.168 -0.168)\">\r\n      <defs>\r\n       <path d=\"M 628 4666 \r\nL 1478 4666 \r\nL 3547 763 \r\nL 3547 4666 \r\nL 4159 4666 \r\nL 4159 0 \r\nL 3309 0 \r\nL 1241 3903 \r\nL 1241 0 \r\nL 628 0 \r\nL 628 4666 \r\nz\r\n\" id=\"DejaVuSans-4e\" transform=\"scale(0.015625)\"/>\r\n       <path d=\"M 544 1381 \r\nL 544 3500 \r\nL 1119 3500 \r\nL 1119 1403 \r\nQ 1119 906 1312 657 \r\nQ 1506 409 1894 409 \r\nQ 2359 409 2629 706 \r\nQ 2900 1003 2900 1516 \r\nL 2900 3500 \r\nL 3475 3500 \r\nL 3475 0 \r\nL 2900 0 \r\nL 2900 538 \r\nQ 2691 219 2414 64 \r\nQ 2138 -91 1772 -91 \r\nQ 1169 -91 856 284 \r\nQ 544 659 544 1381 \r\nz\r\nM 1991 3584 \r\nL 1991 3584 \r\nz\r\n\" id=\"DejaVuSans-75\" transform=\"scale(0.015625)\"/>\r\n       <path d=\"M 3328 2828 \r\nQ 3544 3216 3844 3400 \r\nQ 4144 3584 4550 3584 \r\nQ 5097 3584 5394 3201 \r\nQ 5691 2819 5691 2113 \r\nL 5691 0 \r\nL 5113 0 \r\nL 5113 2094 \r\nQ 5113 2597 4934 2840 \r\nQ 4756 3084 4391 3084 \r\nQ 3944 3084 3684 2787 \r\nQ 3425 2491 3425 1978 \r\nL 3425 0 \r\nL 2847 0 \r\nL 2847 2094 \r\nQ 2847 2600 2669 2842 \r\nQ 2491 3084 2119 3084 \r\nQ 1678 3084 1418 2786 \r\nQ 1159 2488 1159 1978 \r\nL 1159 0 \r\nL 581 0 \r\nL 581 3500 \r\nL 1159 3500 \r\nL 1159 2956 \r\nQ 1356 3278 1631 3431 \r\nQ 1906 3584 2284 3584 \r\nQ 2666 3584 2933 3390 \r\nQ 3200 3197 3328 2828 \r\nz\r\n\" id=\"DejaVuSans-6d\" transform=\"scale(0.015625)\"/>\r\n       <path d=\"M 3116 1747 \r\nQ 3116 2381 2855 2742 \r\nQ 2594 3103 2138 3103 \r\nQ 1681 3103 1420 2742 \r\nQ 1159 2381 1159 1747 \r\nQ 1159 1113 1420 752 \r\nQ 1681 391 2138 391 \r\nQ 2594 391 2855 752 \r\nQ 3116 1113 3116 1747 \r\nz\r\nM 1159 2969 \r\nQ 1341 3281 1617 3432 \r\nQ 1894 3584 2278 3584 \r\nQ 2916 3584 3314 3078 \r\nQ 3713 2572 3713 1747 \r\nQ 3713 922 3314 415 \r\nQ 2916 -91 2278 -91 \r\nQ 1894 -91 1617 61 \r\nQ 1341 213 1159 525 \r\nL 1159 0 \r\nL 581 0 \r\nL 581 4863 \r\nL 1159 4863 \r\nL 1159 2969 \r\nz\r\n\" id=\"DejaVuSans-62\" transform=\"scale(0.015625)\"/>\r\n       <path d=\"M 3597 1894 \r\nL 3597 1613 \r\nL 953 1613 \r\nQ 991 1019 1311 708 \r\nQ 1631 397 2203 397 \r\nQ 2534 397 2845 478 \r\nQ 3156 559 3463 722 \r\nL 3463 178 \r\nQ 3153 47 2828 -22 \r\nQ 2503 -91 2169 -91 \r\nQ 1331 -91 842 396 \r\nQ 353 884 353 1716 \r\nQ 353 2575 817 3079 \r\nQ 1281 3584 2069 3584 \r\nQ 2775 3584 3186 3129 \r\nQ 3597 2675 3597 1894 \r\nz\r\nM 3022 2063 \r\nQ 3016 2534 2758 2815 \r\nQ 2500 3097 2075 3097 \r\nQ 1594 3097 1305 2825 \r\nQ 1016 2553 972 2059 \r\nL 3022 2063 \r\nz\r\n\" id=\"DejaVuSans-65\" transform=\"scale(0.015625)\"/>\r\n       <path d=\"M 2631 2963 \r\nQ 2534 3019 2420 3045 \r\nQ 2306 3072 2169 3072 \r\nQ 1681 3072 1420 2755 \r\nQ 1159 2438 1159 1844 \r\nL 1159 0 \r\nL 581 0 \r\nL 581 3500 \r\nL 1159 3500 \r\nL 1159 2956 \r\nQ 1341 3275 1631 3429 \r\nQ 1922 3584 2338 3584 \r\nQ 2397 3584 2469 3576 \r\nQ 2541 3569 2628 3553 \r\nL 2631 2963 \r\nz\r\n\" id=\"DejaVuSans-72\" transform=\"scale(0.015625)\"/>\r\n       <path id=\"DejaVuSans-20\" transform=\"scale(0.015625)\"/>\r\n       <path d=\"M 1959 3097 \r\nQ 1497 3097 1228 2736 \r\nQ 959 2375 959 1747 \r\nQ 959 1119 1226 758 \r\nQ 1494 397 1959 397 \r\nQ 2419 397 2687 759 \r\nQ 2956 1122 2956 1747 \r\nQ 2956 2369 2687 2733 \r\nQ 2419 3097 1959 3097 \r\nz\r\nM 1959 3584 \r\nQ 2709 3584 3137 3096 \r\nQ 3566 2609 3566 1747 \r\nQ 3566 888 3137 398 \r\nQ 2709 -91 1959 -91 \r\nQ 1206 -91 779 398 \r\nQ 353 888 353 1747 \r\nQ 353 2609 779 3096 \r\nQ 1206 3584 1959 3584 \r\nz\r\n\" id=\"DejaVuSans-6f\" transform=\"scale(0.015625)\"/>\r\n       <path d=\"M 2375 4863 \r\nL 2375 4384 \r\nL 1825 4384 \r\nQ 1516 4384 1395 4259 \r\nQ 1275 4134 1275 3809 \r\nL 1275 3500 \r\nL 2222 3500 \r\nL 2222 3053 \r\nL 1275 3053 \r\nL 1275 0 \r\nL 697 0 \r\nL 697 3053 \r\nL 147 3053 \r\nL 147 3500 \r\nL 697 3500 \r\nL 697 3744 \r\nQ 697 4328 969 4595 \r\nQ 1241 4863 1831 4863 \r\nL 2375 4863 \r\nz\r\n\" id=\"DejaVuSans-66\" transform=\"scale(0.015625)\"/>\r\n       <path d=\"M -19 4666 \r\nL 3928 4666 \r\nL 3928 4134 \r\nL 2272 4134 \r\nL 2272 0 \r\nL 1638 0 \r\nL 1638 4134 \r\nL -19 4134 \r\nL -19 4666 \r\nz\r\n\" id=\"DejaVuSans-54\" transform=\"scale(0.015625)\"/>\r\n       <path d=\"M 1159 525 \r\nL 1159 -1331 \r\nL 581 -1331 \r\nL 581 3500 \r\nL 1159 3500 \r\nL 1159 2969 \r\nQ 1341 3281 1617 3432 \r\nQ 1894 3584 2278 3584 \r\nQ 2916 3584 3314 3078 \r\nQ 3713 2572 3713 1747 \r\nQ 3713 922 3314 415 \r\nQ 2916 -91 2278 -91 \r\nQ 1894 -91 1617 61 \r\nQ 1341 213 1159 525 \r\nz\r\nM 3116 1747 \r\nQ 3116 2381 2855 2742 \r\nQ 2594 3103 2138 3103 \r\nQ 1681 3103 1420 2742 \r\nQ 1159 2381 1159 1747 \r\nQ 1159 1113 1420 752 \r\nQ 1681 391 2138 391 \r\nQ 2594 391 2855 752 \r\nQ 3116 1113 3116 1747 \r\nz\r\n\" id=\"DejaVuSans-70\" transform=\"scale(0.015625)\"/>\r\n       <path d=\"M 603 3500 \r\nL 1178 3500 \r\nL 1178 0 \r\nL 603 0 \r\nL 603 3500 \r\nz\r\nM 603 4863 \r\nL 1178 4863 \r\nL 1178 4134 \r\nL 603 4134 \r\nL 603 4863 \r\nz\r\n\" id=\"DejaVuSans-69\" transform=\"scale(0.015625)\"/>\r\n       <path d=\"M 3122 3366 \r\nL 3122 2828 \r\nQ 2878 2963 2633 3030 \r\nQ 2388 3097 2138 3097 \r\nQ 1578 3097 1268 2742 \r\nQ 959 2388 959 1747 \r\nQ 959 1106 1268 751 \r\nQ 1578 397 2138 397 \r\nQ 2388 397 2633 464 \r\nQ 2878 531 3122 666 \r\nL 3122 134 \r\nQ 2881 22 2623 -34 \r\nQ 2366 -91 2075 -91 \r\nQ 1284 -91 818 406 \r\nQ 353 903 353 1747 \r\nQ 353 2603 823 3093 \r\nQ 1294 3584 2113 3584 \r\nQ 2378 3584 2631 3529 \r\nQ 2884 3475 3122 3366 \r\nz\r\n\" id=\"DejaVuSans-63\" transform=\"scale(0.015625)\"/>\r\n       <path d=\"M 2834 3397 \r\nL 2834 2853 \r\nQ 2591 2978 2328 3040 \r\nQ 2066 3103 1784 3103 \r\nQ 1356 3103 1142 2972 \r\nQ 928 2841 928 2578 \r\nQ 928 2378 1081 2264 \r\nQ 1234 2150 1697 2047 \r\nL 1894 2003 \r\nQ 2506 1872 2764 1633 \r\nQ 3022 1394 3022 966 \r\nQ 3022 478 2636 193 \r\nQ 2250 -91 1575 -91 \r\nQ 1294 -91 989 -36 \r\nQ 684 19 347 128 \r\nL 347 722 \r\nQ 666 556 975 473 \r\nQ 1284 391 1588 391 \r\nQ 1994 391 2212 530 \r\nQ 2431 669 2431 922 \r\nQ 2431 1156 2273 1281 \r\nQ 2116 1406 1581 1522 \r\nL 1381 1569 \r\nQ 847 1681 609 1914 \r\nQ 372 2147 372 2553 \r\nQ 372 3047 722 3315 \r\nQ 1072 3584 1716 3584 \r\nQ 2034 3584 2315 3537 \r\nQ 2597 3491 2834 3397 \r\nz\r\n\" id=\"DejaVuSans-73\" transform=\"scale(0.015625)\"/>\r\n      </defs>\r\n      <use xlink:href=\"#DejaVuSans-4e\"/>\r\n      <use x=\"74.804688\" xlink:href=\"#DejaVuSans-75\"/>\r\n      <use x=\"138.183594\" xlink:href=\"#DejaVuSans-6d\"/>\r\n      <use x=\"235.595703\" xlink:href=\"#DejaVuSans-62\"/>\r\n      <use x=\"299.072266\" xlink:href=\"#DejaVuSans-65\"/>\r\n      <use x=\"360.595703\" xlink:href=\"#DejaVuSans-72\"/>\r\n      <use x=\"401.708984\" xlink:href=\"#DejaVuSans-20\"/>\r\n      <use x=\"433.496094\" xlink:href=\"#DejaVuSans-6f\"/>\r\n      <use x=\"494.677734\" xlink:href=\"#DejaVuSans-66\"/>\r\n      <use x=\"529.882812\" xlink:href=\"#DejaVuSans-20\"/>\r\n      <use x=\"561.669922\" xlink:href=\"#DejaVuSans-54\"/>\r\n      <use x=\"605.753906\" xlink:href=\"#DejaVuSans-6f\"/>\r\n      <use x=\"666.935547\" xlink:href=\"#DejaVuSans-70\"/>\r\n      <use x=\"730.412109\" xlink:href=\"#DejaVuSans-69\"/>\r\n      <use x=\"758.195312\" xlink:href=\"#DejaVuSans-63\"/>\r\n      <use x=\"813.175781\" xlink:href=\"#DejaVuSans-73\"/>\r\n     </g>\r\n    </g>\r\n   </g>\r\n   <g id=\"matplotlib.axis_2\">\r\n    <g id=\"ytick_1\">\r\n     <g id=\"line2d_13\">\r\n      <path clip-path=\"url(#p5a0ddab49e)\" d=\"M 65.631125 371.15314 \r\nL 791.031125 371.15314 \r\n\" style=\"fill:none;stroke:#ffffff;stroke-linecap:square;stroke-width:0.8;\"/>\r\n     </g>\r\n     <g id=\"line2d_14\">\r\n      <defs>\r\n       <path d=\"M 0 0 \r\nL -3.5 0 \r\n\" id=\"m3d7d4aaa3e\" style=\"stroke:#555555;stroke-width:0.8;\"/>\r\n      </defs>\r\n      <g>\r\n       <use style=\"fill:#555555;stroke:#555555;stroke-width:0.8;\" x=\"65.631125\" xlink:href=\"#m3d7d4aaa3e\" y=\"371.15314\"/>\r\n      </g>\r\n     </g>\r\n     <g id=\"text_8\">\r\n      <!-- 0.92 -->\r\n      <g style=\"fill:#555555;\" transform=\"translate(27.45925 376.472046)scale(0.14 -0.14)\">\r\n       <defs>\r\n        <path d=\"M 2034 4250 \r\nQ 1547 4250 1301 3770 \r\nQ 1056 3291 1056 2328 \r\nQ 1056 1369 1301 889 \r\nQ 1547 409 2034 409 \r\nQ 2525 409 2770 889 \r\nQ 3016 1369 3016 2328 \r\nQ 3016 3291 2770 3770 \r\nQ 2525 4250 2034 4250 \r\nz\r\nM 2034 4750 \r\nQ 2819 4750 3233 4129 \r\nQ 3647 3509 3647 2328 \r\nQ 3647 1150 3233 529 \r\nQ 2819 -91 2034 -91 \r\nQ 1250 -91 836 529 \r\nQ 422 1150 422 2328 \r\nQ 422 3509 836 4129 \r\nQ 1250 4750 2034 4750 \r\nz\r\n\" id=\"DejaVuSans-30\" transform=\"scale(0.015625)\"/>\r\n        <path d=\"M 684 794 \r\nL 1344 794 \r\nL 1344 0 \r\nL 684 0 \r\nL 684 794 \r\nz\r\n\" id=\"DejaVuSans-2e\" transform=\"scale(0.015625)\"/>\r\n        <path d=\"M 1228 531 \r\nL 3431 531 \r\nL 3431 0 \r\nL 469 0 \r\nL 469 531 \r\nQ 828 903 1448 1529 \r\nQ 2069 2156 2228 2338 \r\nQ 2531 2678 2651 2914 \r\nQ 2772 3150 2772 3378 \r\nQ 2772 3750 2511 3984 \r\nQ 2250 4219 1831 4219 \r\nQ 1534 4219 1204 4116 \r\nQ 875 4013 500 3803 \r\nL 500 4441 \r\nQ 881 4594 1212 4672 \r\nQ 1544 4750 1819 4750 \r\nQ 2544 4750 2975 4387 \r\nQ 3406 4025 3406 3419 \r\nQ 3406 3131 3298 2873 \r\nQ 3191 2616 2906 2266 \r\nQ 2828 2175 2409 1742 \r\nQ 1991 1309 1228 531 \r\nz\r\n\" id=\"DejaVuSans-32\" transform=\"scale(0.015625)\"/>\r\n       </defs>\r\n       <use xlink:href=\"#DejaVuSans-30\"/>\r\n       <use x=\"63.623047\" xlink:href=\"#DejaVuSans-2e\"/>\r\n       <use x=\"95.410156\" xlink:href=\"#DejaVuSans-39\"/>\r\n       <use x=\"159.033203\" xlink:href=\"#DejaVuSans-32\"/>\r\n      </g>\r\n     </g>\r\n    </g>\r\n    <g id=\"ytick_2\">\r\n     <g id=\"line2d_15\">\r\n      <path clip-path=\"url(#p5a0ddab49e)\" d=\"M 65.631125 299.727497 \r\nL 791.031125 299.727497 \r\n\" style=\"fill:none;stroke:#ffffff;stroke-linecap:square;stroke-width:0.8;\"/>\r\n     </g>\r\n     <g id=\"line2d_16\">\r\n      <g>\r\n       <use style=\"fill:#555555;stroke:#555555;stroke-width:0.8;\" x=\"65.631125\" xlink:href=\"#m3d7d4aaa3e\" y=\"299.727497\"/>\r\n      </g>\r\n     </g>\r\n     <g id=\"text_9\">\r\n      <!-- 0.94 -->\r\n      <g style=\"fill:#555555;\" transform=\"translate(27.45925 305.046403)scale(0.14 -0.14)\">\r\n       <use xlink:href=\"#DejaVuSans-30\"/>\r\n       <use x=\"63.623047\" xlink:href=\"#DejaVuSans-2e\"/>\r\n       <use x=\"95.410156\" xlink:href=\"#DejaVuSans-39\"/>\r\n       <use x=\"159.033203\" xlink:href=\"#DejaVuSans-34\"/>\r\n      </g>\r\n     </g>\r\n    </g>\r\n    <g id=\"ytick_3\">\r\n     <g id=\"line2d_17\">\r\n      <path clip-path=\"url(#p5a0ddab49e)\" d=\"M 65.631125 228.301853 \r\nL 791.031125 228.301853 \r\n\" style=\"fill:none;stroke:#ffffff;stroke-linecap:square;stroke-width:0.8;\"/>\r\n     </g>\r\n     <g id=\"line2d_18\">\r\n      <g>\r\n       <use style=\"fill:#555555;stroke:#555555;stroke-width:0.8;\" x=\"65.631125\" xlink:href=\"#m3d7d4aaa3e\" y=\"228.301853\"/>\r\n      </g>\r\n     </g>\r\n     <g id=\"text_10\">\r\n      <!-- 0.96 -->\r\n      <g style=\"fill:#555555;\" transform=\"translate(27.45925 233.62076)scale(0.14 -0.14)\">\r\n       <use xlink:href=\"#DejaVuSans-30\"/>\r\n       <use x=\"63.623047\" xlink:href=\"#DejaVuSans-2e\"/>\r\n       <use x=\"95.410156\" xlink:href=\"#DejaVuSans-39\"/>\r\n       <use x=\"159.033203\" xlink:href=\"#DejaVuSans-36\"/>\r\n      </g>\r\n     </g>\r\n    </g>\r\n    <g id=\"ytick_4\">\r\n     <g id=\"line2d_19\">\r\n      <path clip-path=\"url(#p5a0ddab49e)\" d=\"M 65.631125 156.87621 \r\nL 791.031125 156.87621 \r\n\" style=\"fill:none;stroke:#ffffff;stroke-linecap:square;stroke-width:0.8;\"/>\r\n     </g>\r\n     <g id=\"line2d_20\">\r\n      <g>\r\n       <use style=\"fill:#555555;stroke:#555555;stroke-width:0.8;\" x=\"65.631125\" xlink:href=\"#m3d7d4aaa3e\" y=\"156.87621\"/>\r\n      </g>\r\n     </g>\r\n     <g id=\"text_11\">\r\n      <!-- 0.98 -->\r\n      <g style=\"fill:#555555;\" transform=\"translate(27.45925 162.195117)scale(0.14 -0.14)\">\r\n       <use xlink:href=\"#DejaVuSans-30\"/>\r\n       <use x=\"63.623047\" xlink:href=\"#DejaVuSans-2e\"/>\r\n       <use x=\"95.410156\" xlink:href=\"#DejaVuSans-39\"/>\r\n       <use x=\"159.033203\" xlink:href=\"#DejaVuSans-38\"/>\r\n      </g>\r\n     </g>\r\n    </g>\r\n    <g id=\"ytick_5\">\r\n     <g id=\"line2d_21\">\r\n      <path clip-path=\"url(#p5a0ddab49e)\" d=\"M 65.631125 85.450567 \r\nL 791.031125 85.450567 \r\n\" style=\"fill:none;stroke:#ffffff;stroke-linecap:square;stroke-width:0.8;\"/>\r\n     </g>\r\n     <g id=\"line2d_22\">\r\n      <g>\r\n       <use style=\"fill:#555555;stroke:#555555;stroke-width:0.8;\" x=\"65.631125\" xlink:href=\"#m3d7d4aaa3e\" y=\"85.450567\"/>\r\n      </g>\r\n     </g>\r\n     <g id=\"text_12\">\r\n      <!-- 1.00 -->\r\n      <g style=\"fill:#555555;\" transform=\"translate(27.45925 90.769473)scale(0.14 -0.14)\">\r\n       <defs>\r\n        <path d=\"M 794 531 \r\nL 1825 531 \r\nL 1825 4091 \r\nL 703 3866 \r\nL 703 4441 \r\nL 1819 4666 \r\nL 2450 4666 \r\nL 2450 531 \r\nL 3481 531 \r\nL 3481 0 \r\nL 794 0 \r\nL 794 531 \r\nz\r\n\" id=\"DejaVuSans-31\" transform=\"scale(0.015625)\"/>\r\n       </defs>\r\n       <use xlink:href=\"#DejaVuSans-31\"/>\r\n       <use x=\"63.623047\" xlink:href=\"#DejaVuSans-2e\"/>\r\n       <use x=\"95.410156\" xlink:href=\"#DejaVuSans-30\"/>\r\n       <use x=\"159.033203\" xlink:href=\"#DejaVuSans-30\"/>\r\n      </g>\r\n     </g>\r\n    </g>\r\n    <g id=\"ytick_6\">\r\n     <g id=\"line2d_23\">\r\n      <path clip-path=\"url(#p5a0ddab49e)\" d=\"M 65.631125 14.024924 \r\nL 791.031125 14.024924 \r\n\" style=\"fill:none;stroke:#ffffff;stroke-linecap:square;stroke-width:0.8;\"/>\r\n     </g>\r\n     <g id=\"line2d_24\">\r\n      <g>\r\n       <use style=\"fill:#555555;stroke:#555555;stroke-width:0.8;\" x=\"65.631125\" xlink:href=\"#m3d7d4aaa3e\" y=\"14.024924\"/>\r\n      </g>\r\n     </g>\r\n     <g id=\"text_13\">\r\n      <!-- 1.02 -->\r\n      <g style=\"fill:#555555;\" transform=\"translate(27.45925 19.34383)scale(0.14 -0.14)\">\r\n       <use xlink:href=\"#DejaVuSans-31\"/>\r\n       <use x=\"63.623047\" xlink:href=\"#DejaVuSans-2e\"/>\r\n       <use x=\"95.410156\" xlink:href=\"#DejaVuSans-30\"/>\r\n       <use x=\"159.033203\" xlink:href=\"#DejaVuSans-32\"/>\r\n      </g>\r\n     </g>\r\n    </g>\r\n    <g id=\"text_14\">\r\n     <!-- Mean Coherence -->\r\n     <g style=\"fill:#555555;\" transform=\"translate(19.965375 268.058063)rotate(-90)scale(0.168 -0.168)\">\r\n      <defs>\r\n       <path d=\"M 628 4666 \r\nL 1569 4666 \r\nL 2759 1491 \r\nL 3956 4666 \r\nL 4897 4666 \r\nL 4897 0 \r\nL 4281 0 \r\nL 4281 4097 \r\nL 3078 897 \r\nL 2444 897 \r\nL 1241 4097 \r\nL 1241 0 \r\nL 628 0 \r\nL 628 4666 \r\nz\r\n\" id=\"DejaVuSans-4d\" transform=\"scale(0.015625)\"/>\r\n       <path d=\"M 2194 1759 \r\nQ 1497 1759 1228 1600 \r\nQ 959 1441 959 1056 \r\nQ 959 750 1161 570 \r\nQ 1363 391 1709 391 \r\nQ 2188 391 2477 730 \r\nQ 2766 1069 2766 1631 \r\nL 2766 1759 \r\nL 2194 1759 \r\nz\r\nM 3341 1997 \r\nL 3341 0 \r\nL 2766 0 \r\nL 2766 531 \r\nQ 2569 213 2275 61 \r\nQ 1981 -91 1556 -91 \r\nQ 1019 -91 701 211 \r\nQ 384 513 384 1019 \r\nQ 384 1609 779 1909 \r\nQ 1175 2209 1959 2209 \r\nL 2766 2209 \r\nL 2766 2266 \r\nQ 2766 2663 2505 2880 \r\nQ 2244 3097 1772 3097 \r\nQ 1472 3097 1187 3025 \r\nQ 903 2953 641 2809 \r\nL 641 3341 \r\nQ 956 3463 1253 3523 \r\nQ 1550 3584 1831 3584 \r\nQ 2591 3584 2966 3190 \r\nQ 3341 2797 3341 1997 \r\nz\r\n\" id=\"DejaVuSans-61\" transform=\"scale(0.015625)\"/>\r\n       <path d=\"M 3513 2113 \r\nL 3513 0 \r\nL 2938 0 \r\nL 2938 2094 \r\nQ 2938 2591 2744 2837 \r\nQ 2550 3084 2163 3084 \r\nQ 1697 3084 1428 2787 \r\nQ 1159 2491 1159 1978 \r\nL 1159 0 \r\nL 581 0 \r\nL 581 3500 \r\nL 1159 3500 \r\nL 1159 2956 \r\nQ 1366 3272 1645 3428 \r\nQ 1925 3584 2291 3584 \r\nQ 2894 3584 3203 3211 \r\nQ 3513 2838 3513 2113 \r\nz\r\n\" id=\"DejaVuSans-6e\" transform=\"scale(0.015625)\"/>\r\n       <path d=\"M 4122 4306 \r\nL 4122 3641 \r\nQ 3803 3938 3442 4084 \r\nQ 3081 4231 2675 4231 \r\nQ 1875 4231 1450 3742 \r\nQ 1025 3253 1025 2328 \r\nQ 1025 1406 1450 917 \r\nQ 1875 428 2675 428 \r\nQ 3081 428 3442 575 \r\nQ 3803 722 4122 1019 \r\nL 4122 359 \r\nQ 3791 134 3420 21 \r\nQ 3050 -91 2638 -91 \r\nQ 1578 -91 968 557 \r\nQ 359 1206 359 2328 \r\nQ 359 3453 968 4101 \r\nQ 1578 4750 2638 4750 \r\nQ 3056 4750 3426 4639 \r\nQ 3797 4528 4122 4306 \r\nz\r\n\" id=\"DejaVuSans-43\" transform=\"scale(0.015625)\"/>\r\n       <path d=\"M 3513 2113 \r\nL 3513 0 \r\nL 2938 0 \r\nL 2938 2094 \r\nQ 2938 2591 2744 2837 \r\nQ 2550 3084 2163 3084 \r\nQ 1697 3084 1428 2787 \r\nQ 1159 2491 1159 1978 \r\nL 1159 0 \r\nL 581 0 \r\nL 581 4863 \r\nL 1159 4863 \r\nL 1159 2956 \r\nQ 1366 3272 1645 3428 \r\nQ 1925 3584 2291 3584 \r\nQ 2894 3584 3203 3211 \r\nQ 3513 2838 3513 2113 \r\nz\r\n\" id=\"DejaVuSans-68\" transform=\"scale(0.015625)\"/>\r\n      </defs>\r\n      <use xlink:href=\"#DejaVuSans-4d\"/>\r\n      <use x=\"86.279297\" xlink:href=\"#DejaVuSans-65\"/>\r\n      <use x=\"147.802734\" xlink:href=\"#DejaVuSans-61\"/>\r\n      <use x=\"209.082031\" xlink:href=\"#DejaVuSans-6e\"/>\r\n      <use x=\"272.460938\" xlink:href=\"#DejaVuSans-20\"/>\r\n      <use x=\"304.248047\" xlink:href=\"#DejaVuSans-43\"/>\r\n      <use x=\"374.072266\" xlink:href=\"#DejaVuSans-6f\"/>\r\n      <use x=\"435.253906\" xlink:href=\"#DejaVuSans-68\"/>\r\n      <use x=\"498.632812\" xlink:href=\"#DejaVuSans-65\"/>\r\n      <use x=\"560.15625\" xlink:href=\"#DejaVuSans-72\"/>\r\n      <use x=\"599.019531\" xlink:href=\"#DejaVuSans-65\"/>\r\n      <use x=\"660.542969\" xlink:href=\"#DejaVuSans-6e\"/>\r\n      <use x=\"723.921875\" xlink:href=\"#DejaVuSans-63\"/>\r\n      <use x=\"778.902344\" xlink:href=\"#DejaVuSans-65\"/>\r\n     </g>\r\n    </g>\r\n   </g>\r\n   <g id=\"PathCollection_1\">\r\n    <defs>\r\n     <path d=\"M 0 5.477226 \r\nC 1.452577 5.477226 2.845856 4.900111 3.872983 3.872983 \r\nC 4.900111 2.845856 5.477226 1.452577 5.477226 0 \r\nC 5.477226 -1.452577 4.900111 -2.845856 3.872983 -3.872983 \r\nC 2.845856 -4.900111 1.452577 -5.477226 0 -5.477226 \r\nC -1.452577 -5.477226 -2.845856 -4.900111 -3.872983 -3.872983 \r\nC -4.900111 -2.845856 -5.477226 -1.452577 -5.477226 0 \r\nC -5.477226 1.452577 -4.900111 2.845856 -3.872983 3.872983 \r\nC -2.845856 4.900111 -1.452577 5.477226 0 5.477226 \r\nz\r\n\" id=\"m2af887775b\" style=\"stroke:#e24a33;stroke-width:0.5;\"/>\r\n    </defs>\r\n    <g clip-path=\"url(#p5a0ddab49e)\">\r\n     <use style=\"fill:#e24a33;stroke:#e24a33;stroke-width:0.5;\" x=\"98.603852\" xlink:href=\"#m2af887775b\" y=\"197.46\"/>\r\n     <use style=\"fill:#e24a33;stroke:#e24a33;stroke-width:0.5;\" x=\"230.494761\" xlink:href=\"#m2af887775b\" y=\"197.46\"/>\r\n     <use style=\"fill:#e24a33;stroke:#e24a33;stroke-width:0.5;\" x=\"362.38567\" xlink:href=\"#m2af887775b\" y=\"197.46\"/>\r\n     <use style=\"fill:#e24a33;stroke:#e24a33;stroke-width:0.5;\" x=\"494.27658\" xlink:href=\"#m2af887775b\" y=\"197.46\"/>\r\n     <use style=\"fill:#e24a33;stroke:#e24a33;stroke-width:0.5;\" x=\"626.167489\" xlink:href=\"#m2af887775b\" y=\"197.46\"/>\r\n     <use style=\"fill:#e24a33;stroke:#e24a33;stroke-width:0.5;\" x=\"758.058398\" xlink:href=\"#m2af887775b\" y=\"197.46\"/>\r\n    </g>\r\n   </g>\r\n   <g id=\"line2d_25\">\r\n    <path clip-path=\"url(#p5a0ddab49e)\" d=\"M 98.603852 197.46 \r\nL 230.494761 197.46 \r\nL 362.38567 197.46 \r\nL 494.27658 197.46 \r\nL 626.167489 197.46 \r\nL 758.058398 197.46 \r\n\" style=\"fill:none;stroke:#e24a33;stroke-linecap:square;stroke-width:1.5;\"/>\r\n   </g>\r\n   <g id=\"patch_3\">\r\n    <path d=\"M 65.631125 387.72 \r\nL 65.631125 7.2 \r\n\" style=\"fill:none;stroke:#ffffff;stroke-linecap:square;stroke-linejoin:miter;\"/>\r\n   </g>\r\n   <g id=\"patch_4\">\r\n    <path d=\"M 791.031125 387.72 \r\nL 791.031125 7.2 \r\n\" style=\"fill:none;stroke:#ffffff;stroke-linecap:square;stroke-linejoin:miter;\"/>\r\n   </g>\r\n   <g id=\"patch_5\">\r\n    <path d=\"M 65.631125 387.72 \r\nL 791.031125 387.72 \r\n\" style=\"fill:none;stroke:#ffffff;stroke-linecap:square;stroke-linejoin:miter;\"/>\r\n   </g>\r\n   <g id=\"patch_6\">\r\n    <path d=\"M 65.631125 7.2 \r\nL 791.031125 7.2 \r\n\" style=\"fill:none;stroke:#ffffff;stroke-linecap:square;stroke-linejoin:miter;\"/>\r\n   </g>\r\n   <g id=\"text_15\">\r\n    <!-- k=4 -->\r\n    <g transform=\"translate(102.603852 196.491364)scale(0.16 -0.16)\">\r\n     <defs>\r\n      <path d=\"M 581 4863 \r\nL 1159 4863 \r\nL 1159 1991 \r\nL 2875 3500 \r\nL 3609 3500 \r\nL 1753 1863 \r\nL 3688 0 \r\nL 2938 0 \r\nL 1159 1709 \r\nL 1159 0 \r\nL 581 0 \r\nL 581 4863 \r\nz\r\n\" id=\"DejaVuSans-6b\" transform=\"scale(0.015625)\"/>\r\n      <path d=\"M 678 2906 \r\nL 4684 2906 \r\nL 4684 2381 \r\nL 678 2381 \r\nL 678 2906 \r\nz\r\nM 678 1631 \r\nL 4684 1631 \r\nL 4684 1100 \r\nL 678 1100 \r\nL 678 1631 \r\nz\r\n\" id=\"DejaVuSans-3d\" transform=\"scale(0.015625)\"/>\r\n     </defs>\r\n     <use xlink:href=\"#DejaVuSans-6b\"/>\r\n     <use x=\"57.910156\" xlink:href=\"#DejaVuSans-3d\"/>\r\n     <use x=\"141.699219\" xlink:href=\"#DejaVuSans-34\"/>\r\n    </g>\r\n   </g>\r\n  </g>\r\n </g>\r\n <defs>\r\n  <clipPath id=\"p5a0ddab49e\">\r\n   <rect height=\"380.52\" width=\"725.4\" x=\"65.631125\" y=\"7.2\"/>\r\n  </clipPath>\r\n </defs>\r\n</svg>\r\n",
      "image/png": "[encoded data removed]"
     },
     "metadata": {}
    }
   ],
   "source": [
    "fig = plt.figure(figsize=(13,7))\n",
    "# create the line plot\n",
    "ax = plt.plot( k_values, coherences )\n",
    "plt.xticks(k_values)\n",
    "plt.xlabel(\"Number of Topics\")\n",
    "plt.ylabel(\"Mean Coherence\")\n",
    "# add the points\n",
    "plt.scatter( k_values, coherences, s=120)\n",
    "# find and annotate the maximum point on the plot\n",
    "ymax = max(coherences)\n",
    "xpos = coherences.index(ymax)\n",
    "best_k = k_values[xpos]\n",
    "plt.annotate( \"k=%d\" % best_k, xy=(best_k, ymax), xytext=(best_k, ymax), textcoords=\"offset points\", fontsize=16)\n",
    "# show the plot\n",
    "plt.show()"
   ]
  },
  {
   "cell_type": "code",
   "execution_count": 65,
   "metadata": {},
   "outputs": [],
   "source": [
    "k = best_k\n",
    "# get the model that we generated earlier.\n",
    "W = topic_models[k-kmin][1]\n",
    "H = topic_models[k-kmin][2]"
   ]
  },
  {
   "cell_type": "code",
   "execution_count": 66,
   "metadata": {},
   "outputs": [
    {
     "output_type": "stream",
     "name": "stdout",
     "text": [
      "Topic 01: gutenberg, project, tm, works, electronic, terms, work, law, foundation, copyright\nTopic 02: work, electronic, works, terms, tm, copyright, project, law, gutenberg, foundation\nTopic 03: foundation, gutenberg, copyright, work, works, tm, terms, project, law, electronic\nTopic 04: law, copyright, works, project, terms, work, tm, gutenberg, foundation, electronic\n"
     ]
    }
   ],
   "source": [
    "for topic_index in range(k):\n",
    "    descriptor = get_descriptor( terms, H, topic_index, 10 )\n",
    "    str_descriptor = \", \".join( descriptor )\n",
    "    print(\"Topic %02d: %s\" % ( topic_index+1, str_descriptor ) )"
   ]
  },
  {
   "cell_type": "code",
   "execution_count": null,
   "metadata": {},
   "outputs": [],
   "source": []
  }
 ]
}